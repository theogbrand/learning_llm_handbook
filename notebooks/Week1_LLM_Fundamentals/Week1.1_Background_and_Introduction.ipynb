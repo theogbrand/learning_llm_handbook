{
  "cells": [
    {
      "cell_type": "markdown",
      "metadata": {
        "colab_type": "text",
        "id": "view-in-github"
      },
      "source": [
        "<a href=\"https://colab.research.google.com/github/theogbrand/learning_llm_handbook/blob/main/notebooks/Week1_LLM_Fundamentals/Week1_LLM_Fundamentals.ipynb\" target=\"_parent\"><img src=\"https://colab.research.google.com/assets/colab-badge.svg\" alt=\"Open In Colab\"/></a>"
      ]
    },
    {
      "cell_type": "markdown",
      "metadata": {
        "id": "800624a9HGn9"
      },
      "source": [
        "# Week 1: LLM Fundamentals and Development Environment Setup\n",
        "\n",
        "Resource Required: Google Colab (T4) GPU - free"
      ]
    },
    {
      "cell_type": "markdown",
      "metadata": {
        "id": "y5EVhJkFHJAT"
      },
      "source": [
        "💡 NOTE: We will want to use a GPU to run the examples in this notebook. In Google Colab, go to Runtime > Change runtime type > Hardware accelerator > GPU > GPU type > T4."
      ]
    },
    {
      "cell_type": "code",
      "execution_count": 1,
      "metadata": {
        "id": "8aPl-QnYH9EG"
      },
      "outputs": [],
      "source": [
        "!pip install transformers>=4.40.1 accelerate>=0.27.2"
      ]
    },
    {
      "cell_type": "markdown",
      "metadata": {},
      "source": [
        "In this course, we will use Hugging Face's Transformers library to train and test our own models. Let's get familiar with the library by loading a pre-trained model and using it to generate text.\n",
        "\n",
        "`Phi-3-mini-4k-instruct` is a small, fast, and efficient model that can generate text in a variety of languages. It is a decoder-only model that uses the GPT architecture.\n",
        "\n",
        "The first interesting thing to note is that the model is loaded onto the GPU. This is because the `device_map` argument is set to `cuda`, which is the GPU.\n",
        "\n",
        "The second interesting thing to note is that the model is loaded using the `AutoModelForCausalLM` class. This is a convenience class that loads the model and the associated tokenizer. There are other classes that HuggingFace offers for different model types.\n",
        "\n",
        "The third interesting thing to note is that the model is loaded using the `pipeline` function. This is a convenience function that loads the model and the associated tokenizer and returns a pipeline for easy inference.\n",
        "\n",
        "The reason to use the `pipeline` function for simple inference will become more obvious later, when we analyze the sequential steps taken for a model to generate text."
      ]
    },
    {
      "cell_type": "markdown",
      "metadata": {},
      "source": [
        "`Phi-3-mini-4k-instruct` is a chat-style/instruction-tuned model, which means it is trained to generate text in a conversational manner. This is why it is capable of chatting with us like a person would.\n",
        "\n",
        "Chat-style models are trained from base models through a process called instruction tuning, a type of supervised finetuning. The difference between vanilla finetuning and instruction tuning is that finetuning involves training the model on a specific task, while instruction tuning involves training the model to follow a specific set of instructions.\n",
        "\n",
        "Without instruction tuning, the model is only trained to generate text to complete the next word in a sequence. Before a model is instruction-tuned, the model is usually known as a base model, which was trained using a training objective to predict the next token in a sequence. We will explore the mechanics of how this works in greater detail later."
      ]
    },
    {
      "cell_type": "code",
      "execution_count": 4,
      "metadata": {
        "colab": {
          "base_uri": "https://localhost:8080/",
          "height": 687,
          "referenced_widgets": [
            "1557fd9f3c6b46d290e18e9e5b204b9f",
            "fdd09f870df84cf2a2f71adc4f292324",
            "a456548adffb46dfae4d325f8670cef6",
            "af82eff3e86640ea8946d2bbee0b4a4a",
            "da57f54ae35747c1b7257c1e14eed5de",
            "2e6fa46ad1e44207bfb1a9b5f7961eed",
            "1315a3c71b7847b785d83692b1dd68ee",
            "cf4e3c124b44430fa92b9ad17a83c9e2",
            "c334dd8d3e254a65837d1e5cbc0652f9",
            "35484145ea184599affebd6d653337fb",
            "1a93ae89a2d246f986082418d87e7270",
            "9a9a69dc0ad34c7eb1d52ecd2710a3e5",
            "83ce0593ae8841b39880310d483272fa",
            "1d1421ca956540e3ab84fc990b5c7539",
            "37f37e3d3dc4429eb1f403964a77e3e7",
            "8a2c5d46c6c3418db9a6df39a18884ca",
            "eab41fe5a3504e52bf7bfc47051821a6",
            "f9de508524a44670be4279301538b35e",
            "220dfaacab4f4ca4821f15a0e895ff0e",
            "faa9e9e17b1a4f13ba5deb9b95161510",
            "4dc27138d50844af9dfae17b79d75bfb",
            "70e705e953ed424e92d343bd572471fe",
            "0203c30c16884e749aa7128f19b361c2",
            "d599a545a5874c3491fecf7c15524515",
            "8deda8f9ade34319831c44ff01c1dae5",
            "d6009e13f75943d58219a9ebe5bf0d81",
            "16d368c156b34bee9789c6f599369a28",
            "5f9424f2bb284d5a8a06125162049c89",
            "7a5c261ebc024522808b00ce4d5dc33a",
            "8c514de57ec14e22b9fbb4147a7a9399",
            "f48e566114ac4943829e1f8d6ef1a7c1",
            "05068155d8a44a90819290d3ac6b9d23",
            "73dfc9aceef44ac8b4e806adc18e8034",
            "0c76dbcff2094f0b9411d0ee8d0ed845",
            "6107d2113c1d4b918d24d86ddcd59963",
            "6331557822b14892a78cd6f922e7507a",
            "30fca3a386184dffaa1772996b39b786",
            "6b71d87004f74872b20142f525057efa",
            "f5b7d453b872495b82e01fcd4739b0cd",
            "90b2c912fbbd4856b144307f3b1c0357",
            "983bb0f9106d4ee1b17d6f6ff493ca9f",
            "8461b9cb8b114e45b6cc2dccabcab18d",
            "9de82ac7368f47fb80fb5d36d687a3e7",
            "703526db082c4e919e3ff8f0fc0662e2",
            "9c309da7cbb9498a8de1a8bcc5b50cb1",
            "56443ed0c7904555898a22d90d1b8f70",
            "0eb97c6f0eb745a5ae20ca997afb395a",
            "cf5fa057a5a341b2a8fbc58d61f313b8",
            "d594ae935a7248e198a3ab6c0ef502d7",
            "cbb313cf281247fc871c402ebd118739",
            "f17e15a98cfd4916b08f288d9911a391",
            "ca0dfa7cb3924be8ba84672ad72cc71f",
            "89d568b9c2844ca2b4b99272d8a0fb4e",
            "57bcb77625fe4d85acdef10212db7ebf",
            "b19828632c124c73a89b97bf59fe82f1",
            "e2553d973fe14e34a477cac613fdd86c",
            "da725e1f1d394cd1932de485589a778d",
            "d04b45b8e5dc4919a8a95cefc5dc79f8",
            "f11c0e5ed21149d4bc9aef4dc3875243",
            "dda637e1e4b7414db2ebfd32427a261e",
            "3073fe5714784ca597ab579ec6946fa9",
            "5050ceac429b4094a01d850a007915d8",
            "923ae47387b74b998333c78b391dc99b",
            "7b729dfaa8084ff4a8aaf0d1f41d7949",
            "ae36f283d0544c8685a42e7fcff8128a",
            "042ace2ab11f401eb3caedafd5bc6ae7"
          ]
        },
        "id": "5vQhlJjDHGn-",
        "outputId": "ffd50706-c598-4268-e9ee-913ab941382a",
        "widgets": {
          "state": {}
        }
      },
      "source": [
        "from transformers import AutoModelForCausalLM, AutoTokenizer, pipeline\n",
        "\n",
        "model = AutoModelForCausalLM.from_pretrained(\n",
        "    \"microsoft/Phi-3-mini-4k-instruct\", # chosen for its small size and fast inference speed on smaller GPUs\n",
        "    device_map=\"cuda\", # requires GPU\n",
        "    torch_dtype=\"auto\",\n",
        "    trust_remote_code=True,\n",
        ")\n",
        "tokenizer = AutoTokenizer.from_pretrained(\"microsoft/Phi-3-mini-4k-instruct\")\n",
        "\n",
        "generator = pipeline(\n",
        "    \"text-generation\",\n",
        "    model=model,\n",
        "    tokenizer=tokenizer,\n",
        "    return_full_text=False,\n",
        "    max_new_tokens=500,\n",
        "    do_sample=False\n",
        ")\n",
        "\n",
        "messages = [\n",
        "    {\"role\": \"user\", \"content\": \"What is the nature of reality?\"}\n",
        "]\n",
        "\n",
        "output = generator(messages)\n",
        "print(output[0][\"generated_text\"])"
      ]
    },
    {
      "cell_type": "markdown",
      "metadata": {},
      "source": [
        "Now we will load a base model, GPT-2 by OpenAI, which has not been instruction tuned and see how the model generates text for the same given prompt.\n",
        "\n",
        "You can see that the model is not able to generate a coherent response, and the text is not very meaningful. This is because the model is not trained to generate text in a conversational manner, but only to predict the words following the prompt.\n",
        "\n",
        "After instruction tuning was discovered, it became the standard way for researchers and developers to train models capable of accomplishing a wide range of tasks. The products we know and love today like ChatGPT, Claude, and Gemini are all based on instruction tuned models.\n",
        "\n",
        "Instruction tuning was one of the fundamental breakthroughs which resulted in the usefulness of LLMs we know today."
      ]
    },
    {
      "cell_type": "code",
      "execution_count": null,
      "metadata": {},
      "source": [
        "from transformers import AutoModelForCausalLM, AutoTokenizer\n",
        "\n",
        "model = AutoModelForCausalLM.from_pretrained(\"gpt2\")\n",
        "tokenizer = AutoTokenizer.from_pretrained(\"gpt2\")\n",
        "\n",
        "tokenizer.pad_token = tokenizer.eos_token # Ignore this for now, we will learn what these are down the line\n",
        "model.config.pad_token_id = model.config.eos_token_id # Ignore this for now, we will learn what these are down the line\n",
        "\n",
        "prompt = \"What is the nature of reality?\"\n",
        "inputs = tokenizer(\n",
        "    prompt,\n",
        "    return_tensors=\"pt\",\n",
        "    padding=True,\n",
        "    truncation=True,\n",
        "    max_length=100,\n",
        "    add_special_tokens=True\n",
        ")\n",
        "\n",
        "# Generate text\n",
        "gen_tokens = model.generate(\n",
        "    input_ids=inputs.input_ids,\n",
        "    attention_mask=inputs.attention_mask,\n",
        "    do_sample=True,\n",
        "    temperature=0.9,\n",
        "    max_length=100,\n",
        "    pad_token_id=tokenizer.pad_token_id,\n",
        "    eos_token_id=tokenizer.eos_token_id,\n",
        ")\n",
        "\n",
        "# Decode and print the generated text\n",
        "gen_text = tokenizer.batch_decode(gen_tokens, skip_special_tokens=True)[0]\n",
        "print(gen_text)"
      ]
    }
  ],
  "metadata": {
    "colab": {
      "provenance": [],
      "include_colab_link": true
    },
    "kernelspec": {
      "display_name": "Python 3",
      "name": "python3"
    },
    "language_info": {
      "name": "python"
    },
    "accelerator": "GPU",
    "gpuClass": "standard"
  },
  "nbformat": 4,
  "nbformat_minor": 0
}