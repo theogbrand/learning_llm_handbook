{
 "cells": [
  {
   "cell_type": "markdown",
   "metadata": {},
   "source": [
    "# Understanding Backpropagation: A Step-by-Step Guide\n",
    "\n",
    "This notebook provides an intuitive explanation of backpropagation using the micrograd library. We'll build up from basic principles to understand how neural networks learn.\n"
   ]
  },
  {
   "cell_type": "markdown",
   "metadata": {},
   "source": [
    "## 1. Analyzing micrograd\n",
    "\n",
    "Inside the micrograd directory, engine.py and nn.py contain classes and functions we will use to understand a simple example of backpropagation.\n"
   ]
  },
  {
   "cell_type": "markdown",
   "metadata": {},
   "source": [
    "## 2. Understanding Automatic Differentiation\n",
    "\n",
    "Let's start by importing the `Value` class from micrograd's engine.py. This is the core component that enables automatic differentiation.\n"
   ]
  },
  {
   "cell_type": "code",
   "execution_count": 12,
   "metadata": {},
   "outputs": [
    {
     "name": "stdout",
     "output_type": "stream",
     "text": [
      "a = Value(data=3.0, grad=0)\n",
      "b = Value(data=2.0, grad=0)\n"
     ]
    }
   ],
   "source": [
    "from micrograd.engine import Value\n",
    "\n",
    "# Create a simple value\n",
    "a = Value(3.0)\n",
    "b = Value(2.0)\n",
    "print(f\"a = {a}\")\n",
    "print(f\"b = {b}\")"
   ]
  },
  {
   "cell_type": "markdown",
   "metadata": {},
   "source": [
    "### 2.1 Forward Pass\n",
    "\n",
    "Let's perform a simple computation: $c = a + b$, $d = c * 2$, and then compute the final output $L = d^2$.\n",
    "\n",
    "This corresponds to the following computational graph:\n",
    "\n",
    "```\n",
    "a(3.0) -->\n",
    "           +c(5.0) --> *d(10.0) --> **2 --> L(100.0)\n",
    "b(2.0) -->\n",
    "```\n"
   ]
  },
  {
   "cell_type": "code",
   "execution_count": 13,
   "metadata": {},
   "outputs": [
    {
     "name": "stdout",
     "output_type": "stream",
     "text": [
      "c = a + b = Value(data=5.0, grad=0)\n",
      "d = c * 2 = Value(data=10.0, grad=0)\n",
      "L = d ** 2 = Value(data=100.0, grad=0)\n"
     ]
    }
   ],
   "source": [
    "# Forward pass\n",
    "c = a + b    # c = 5.0\n",
    "d = c * 2    # d = 10.0\n",
    "L = d ** 2   # L = 100.0\n",
    "\n",
    "print(f\"c = a + b = {c}\")\n",
    "print(f\"d = c * 2 = {d}\")\n",
    "print(f\"L = d ** 2 = {L}\")"
   ]
  },
  {
   "cell_type": "markdown",
   "metadata": {},
   "source": [
    "### 2.2 Backward Pass (Backpropagation)\n",
    "\n",
    "Now let's compute the gradients using backpropagation. This is where the magic happens!\n",
    "\n",
    "**Key Concept**: The gradient tells us how much a small change in a parameter would affect the final output.\n",
    "\n",
    "We'll calculate $\\frac{\\partial L}{\\partial a}$ and $\\frac{\\partial L}{\\partial b}$.\n"
   ]
  },
  {
   "cell_type": "code",
   "execution_count": 14,
   "metadata": {},
   "outputs": [
    {
     "name": "stdout",
     "output_type": "stream",
     "text": [
      "a.grad = ∂L/∂a = 40.0\n",
      "b.grad = ∂L/∂b = 40.0\n",
      "c.grad = ∂L/∂c = 40.0\n",
      "d.grad = ∂L/∂d = 20.0\n"
     ]
    }
   ],
   "source": [
    "# Backward pass\n",
    "L.backward()\n",
    "\n",
    "print(f\"a.grad = ∂L/∂a = {a.grad}\")\n",
    "print(f\"b.grad = ∂L/∂b = {b.grad}\")\n",
    "print(f\"c.grad = ∂L/∂c = {c.grad}\")\n",
    "print(f\"d.grad = ∂L/∂d = {d.grad}\")"
   ]
  },
  {
   "cell_type": "markdown",
   "metadata": {},
   "source": [
    "### 2.3 Understanding the Gradients\n",
    "\n",
    "Let's trace through how these gradients are computed using the chain rule:\n",
    "\n",
    "1. First, $\\frac{\\partial L}{\\partial L} = 1$ (gradient of output with respect to itself is 1)\n",
    "2. $\\frac{\\partial L}{\\partial d} = \\frac{\\partial}{\\partial d}(d^2) = 2d = 2 \\cdot 10 = 20$\n",
    "3. $\\frac{\\partial L}{\\partial c} = \\frac{\\partial L}{\\partial d} \\cdot \\frac{\\partial d}{\\partial c} = 20 \\cdot 2 = 40$\n",
    "4. $\\frac{\\partial L}{\\partial a} = \\frac{\\partial L}{\\partial c} \\cdot \\frac{\\partial c}{\\partial a} = 40 \\cdot 1 = 40$\n",
    "5. $\\frac{\\partial L}{\\partial b} = \\frac{\\partial L}{\\partial c} \\cdot \\frac{\\partial c}{\\partial b} = 40 \\cdot 1 = 40$\n",
    "\n",
    "Let's verify this manually:\n"
   ]
  },
  {
   "cell_type": "code",
   "execution_count": 15,
   "metadata": {},
   "outputs": [
    {
     "name": "stdout",
     "output_type": "stream",
     "text": [
      "Numerical ∂L/∂a: 40.00399999998194\n",
      "Analytical ∂L/∂a: 40.0\n",
      "Difference: 0.003999999981942892\n"
     ]
    }
   ],
   "source": [
    "# Manual calculation for verification\n",
    "h = 0.001  # small increment\n",
    "\n",
    "# Calculate ∂L/∂a using finite difference method\n",
    "a_plus_h = Value(a.data + h)\n",
    "c_new = a_plus_h + b\n",
    "d_new = c_new * 2\n",
    "L_new = d_new ** 2\n",
    "dL_da_numerical = (L_new.data - L.data) / h\n",
    "\n",
    "print(f\"Numerical ∂L/∂a: {dL_da_numerical}\")\n",
    "print(f\"Analytical ∂L/∂a: {a.grad}\")\n",
    "print(f\"Difference: {abs(dL_da_numerical - a.grad)}\")"
   ]
  },
  {
   "cell_type": "markdown",
   "metadata": {},
   "source": [
    "## 3. A More Complex Example\n",
    "\n",
    "Let's try a slightly more complex computational graph with multiple operations and branches.\n",
    "\n",
    "We'll compute: $L = (a * b + c) * (c - a)$\n"
   ]
  },
  {
   "cell_type": "code",
   "execution_count": 16,
   "metadata": {},
   "outputs": [
    {
     "name": "stdout",
     "output_type": "stream",
     "text": [
      "e = a * b = Value(data=6.0, grad=0)\n",
      "f = e + c = Value(data=10.0, grad=0)\n",
      "g = c - a = Value(data=2.0, grad=0)\n",
      "L = f * g = Value(data=20.0, grad=0)\n",
      "\n",
      "Gradients:\n",
      "a.grad = ∂L/∂a = -4.0\n",
      "b.grad = ∂L/∂b = 4.0\n",
      "c.grad = ∂L/∂c = 12.0\n"
     ]
    }
   ],
   "source": [
    "# Reset values\n",
    "a = Value(2.0)\n",
    "b = Value(3.0)\n",
    "c = Value(4.0)\n",
    "\n",
    "# Forward pass\n",
    "e = a * b     # e = 6.0\n",
    "f = e + c     # f = 10.0\n",
    "g = c - a     # g = 2.0\n",
    "L = f * g     # L = 20.0\n",
    "\n",
    "print(f\"e = a * b = {e}\")\n",
    "print(f\"f = e + c = {f}\")\n",
    "print(f\"g = c - a = {g}\")\n",
    "print(f\"L = f * g = {L}\")\n",
    "\n",
    "# Backward pass\n",
    "L.backward()\n",
    "\n",
    "print(\"\\nGradients:\")\n",
    "print(f\"a.grad = ∂L/∂a = {a.grad}\")\n",
    "print(f\"b.grad = ∂L/∂b = {b.grad}\")\n",
    "print(f\"c.grad = ∂L/∂c = {c.grad}\")"
   ]
  },
  {
   "cell_type": "markdown",
   "metadata": {},
   "source": [
    "### 3.1 Understanding the Complex Gradients\n",
    "\n",
    "Let's trace through the chain rule calculations for this example:\n",
    "\n",
    "For $\\frac{\\partial L}{\\partial a}$, we need to consider two paths that a affects L:\n",
    "\n",
    "- Path 1: $a \\rightarrow e \\rightarrow f \\rightarrow L$\n",
    "- Path 2: $a \\rightarrow g \\rightarrow L$\n",
    "\n",
    "For $\\frac{\\partial L}{\\partial c}$, we also have two paths:\n",
    "\n",
    "- Path 1: $c \\rightarrow f \\rightarrow L$\n",
    "- Path 2: $c \\rightarrow g \\rightarrow L$\n",
    "\n",
    "Let's break down these calculations step by step:\n"
   ]
  },
  {
   "cell_type": "code",
   "execution_count": 17,
   "metadata": {},
   "outputs": [
    {
     "name": "stdout",
     "output_type": "stream",
     "text": [
      "Gradient Calculation for L = (a*b + c) * (c - a)\n",
      "----------------------------------------------------\n",
      "∂L/∂f = g = 2.0\n",
      "∂L/∂g = f = 10.0\n",
      "∂L/∂e = ∂L/∂f * ∂f/∂e = 2.0\n",
      "∂L/∂c via f = ∂L/∂f * ∂f/∂c = 2.0\n",
      "∂L/∂a via g = ∂L/∂g * ∂g/∂a = -10.0\n",
      "∂L/∂c via g = ∂L/∂g * ∂g/∂c = 10.0\n",
      "∂L/∂a via e = ∂L/∂e * ∂e/∂a = 6.0\n",
      "∂L/∂b = ∂L/∂e * ∂e/∂b = 4.0\n",
      "\n",
      "Final Gradients:\n",
      "∂L/∂a = ∂L/∂a via e + ∂L/∂a via g = -4.0\n",
      "∂L/∂b = 4.0\n",
      "∂L/∂c = ∂L/∂c via f + ∂L/∂c via g = 12.0\n",
      "\n",
      "Compare with micrograd:\n",
      "micrograd ∂L/∂a = -4.0\n",
      "micrograd ∂L/∂b = 4.0\n",
      "micrograd ∂L/∂c = 12.0\n"
     ]
    }
   ],
   "source": [
    "# Detailed breakdown of gradient calculations\n",
    "print(\"Gradient Calculation for L = (a*b + c) * (c - a)\")\n",
    "print(\"----------------------------------------------------\")\n",
    "\n",
    "# Calculate ∂L/∂f and ∂L/∂g\n",
    "dL_df = g.data   # ∂L/∂f = g\n",
    "dL_dg = f.data   # ∂L/∂g = f\n",
    "print(f\"∂L/∂f = g = {dL_df}\")\n",
    "print(f\"∂L/∂g = f = {dL_dg}\")\n",
    "\n",
    "# Calculate ∂L/∂e and ∂L/∂c (first part)\n",
    "dL_de = dL_df * 1   # ∂L/∂e = ∂L/∂f * ∂f/∂e = ∂L/∂f * 1\n",
    "dL_dc_via_f = dL_df * 1  # ∂L/∂c via f = ∂L/∂f * ∂f/∂c = ∂L/∂f * 1\n",
    "print(f\"∂L/∂e = ∂L/∂f * ∂f/∂e = {dL_de}\")\n",
    "print(f\"∂L/∂c via f = ∂L/∂f * ∂f/∂c = {dL_dc_via_f}\")\n",
    "\n",
    "# Calculate ∂L/∂a (via g) and ∂L/∂c (second part)\n",
    "dL_da_via_g = dL_dg * (-1)  # ∂L/∂a via g = ∂L/∂g * ∂g/∂a = ∂L/∂g * (-1)\n",
    "dL_dc_via_g = dL_dg * 1      # ∂L/∂c via g = ∂L/∂g * ∂g/∂c = ∂L/∂g * 1\n",
    "print(f\"∂L/∂a via g = ∂L/∂g * ∂g/∂a = {dL_da_via_g}\")\n",
    "print(f\"∂L/∂c via g = ∂L/∂g * ∂g/∂c = {dL_dc_via_g}\")\n",
    "\n",
    "# Calculate ∂L/∂a (via e) and ∂L/∂b\n",
    "dL_da_via_e = dL_de * b.data  # ∂L/∂a via e = ∂L/∂e * ∂e/∂a = ∂L/∂e * b\n",
    "dL_db = dL_de * a.data        # ∂L/∂b = ∂L/∂e * ∂e/∂b = ∂L/∂e * a\n",
    "print(f\"∂L/∂a via e = ∂L/∂e * ∂e/∂a = {dL_da_via_e}\")\n",
    "print(f\"∂L/∂b = ∂L/∂e * ∂e/∂b = {dL_db}\")\n",
    "\n",
    "# Total gradients (summing paths)\n",
    "dL_da_total = dL_da_via_e + dL_da_via_g\n",
    "dL_dc_total = dL_dc_via_f + dL_dc_via_g\n",
    "print(\"\\nFinal Gradients:\")\n",
    "print(f\"∂L/∂a = ∂L/∂a via e + ∂L/∂a via g = {dL_da_total}\")\n",
    "print(f\"∂L/∂b = {dL_db}\")\n",
    "print(f\"∂L/∂c = ∂L/∂c via f + ∂L/∂c via g = {dL_dc_total}\")\n",
    "\n",
    "# Compare with micrograd's automatic differentiation\n",
    "print(\"\\nCompare with micrograd:\")\n",
    "print(f\"micrograd ∂L/∂a = {a.grad}\")\n",
    "print(f\"micrograd ∂L/∂b = {b.grad}\")\n",
    "print(f\"micrograd ∂L/∂c = {c.grad}\")"
   ]
  },
  {
   "cell_type": "markdown",
   "metadata": {},
   "source": [
    "## 4. Neural Network Training with Backpropagation\n",
    "\n",
    "Now let's see how backpropagation is used in neural network training. We'll create a simple neural network with micrograd's nn module.\n"
   ]
  },
  {
   "cell_type": "code",
   "execution_count": 18,
   "metadata": {},
   "outputs": [
    {
     "name": "stdout",
     "output_type": "stream",
     "text": [
      "MLP of [Layer of [ReLUNeuron(2), ReLUNeuron(2), ReLUNeuron(2)], Layer of [LinearNeuron(3)]]\n"
     ]
    }
   ],
   "source": [
    "from micrograd.nn import MLP\n",
    "\n",
    "# Create a simple dataset: XOR problem\n",
    "X = [\n",
    "    [0, 0],  # Input 1\n",
    "    [0, 1],  # Input 2\n",
    "    [1, 0],  # Input 3\n",
    "    [1, 1],  # Input 4\n",
    "]\n",
    "y = [0, 1, 1, 0]  # XOR outputs\n",
    "\n",
    "# Create inputs and targets as Value objects\n",
    "inputs = [[Value(x) for x in sample] for sample in X]\n",
    "targets = [Value(y_i) for y_i in y]\n",
    "\n",
    "# Create a neural network: 2-input, 3-hidden nodes, 1-output\n",
    "model = MLP(2, [3, 1])  # 2 inputs, 3 hidden neurons, 1 output\n",
    "print(model)"
   ]
  },
  {
   "cell_type": "markdown",
   "metadata": {},
   "source": [
    "### 4.1 Training Loop\n",
    "\n",
    "Let's train our neural network using gradient descent. This involves:\n",
    "\n",
    "1. Forward pass to compute predictions\n",
    "2. Calculate loss\n",
    "3. Backward pass to compute gradients\n",
    "4. Update weights (parameters) using gradients\n"
   ]
  },
  {
   "cell_type": "code",
   "execution_count": 19,
   "metadata": {},
   "outputs": [
    {
     "name": "stdout",
     "output_type": "stream",
     "text": [
      "Epoch 0, Loss: 2.0428\n",
      "Epoch 10, Loss: 1.0533\n",
      "Epoch 20, Loss: 0.9024\n",
      "Epoch 30, Loss: 0.7590\n",
      "Epoch 40, Loss: 0.6164\n",
      "Epoch 50, Loss: 0.4918\n",
      "Epoch 60, Loss: 0.3913\n",
      "Epoch 70, Loss: 0.2963\n",
      "Epoch 80, Loss: 0.1793\n",
      "Epoch 90, Loss: 0.2132\n",
      "Final loss: 0.0979\n"
     ]
    }
   ],
   "source": [
    "# Training loop\n",
    "learning_rate = 0.05\n",
    "epochs = 100\n",
    "\n",
    "losses = []\n",
    "\n",
    "for epoch in range(epochs):\n",
    "    # Forward pass\n",
    "    ypred = [model(x) for x in inputs]  # predictions\n",
    "    loss = sum((yout - ytrue)**2 for yout, ytrue in zip(ypred, targets))  # MSE loss\n",
    "    \n",
    "    # Backward pass\n",
    "    model.zero_grad()  # Reset gradients to zero\n",
    "    loss.backward()    # Compute gradients\n",
    "    \n",
    "    # Update weights using gradient descent\n",
    "    for p in model.parameters():\n",
    "        p.data -= learning_rate * p.grad\n",
    "    \n",
    "    # Record loss\n",
    "    losses.append(loss.data)\n",
    "    \n",
    "    # Print progress\n",
    "    if epoch % 10 == 0:\n",
    "        print(f\"Epoch {epoch}, Loss: {loss.data:.4f}\")\n",
    "\n",
    "print(f\"Final loss: {losses[-1]:.4f}\")"
   ]
  },
  {
   "cell_type": "code",
   "execution_count": 20,
   "metadata": {},
   "outputs": [
    {
     "data": {
      "image/png": "[encoded data removed]",
      "text/plain": [
       "<Figure size 1000x600 with 1 Axes>"
      ]
     },
     "metadata": {},
     "output_type": "display_data"
    }
   ],
   "source": [
    "# Plot training loss\n",
    "import matplotlib.pyplot as plt\n",
    "\n",
    "plt.figure(figsize=(10, 6))\n",
    "plt.plot(losses)\n",
    "plt.title('Training Loss over Epochs')\n",
    "plt.xlabel('Epoch')\n",
    "plt.ylabel('Loss')\n",
    "plt.grid(True)\n",
    "plt.show()"
   ]
  },
  {
   "cell_type": "markdown",
   "metadata": {},
   "source": [
    "### 4.2 Evaluating the Trained Model\n",
    "\n",
    "Now let's evaluate our trained model on the XOR problem:\n"
   ]
  },
  {
   "cell_type": "code",
   "execution_count": 21,
   "metadata": {},
   "outputs": [
    {
     "name": "stdout",
     "output_type": "stream",
     "text": [
      "XOR Truth Table Predictions:\n",
      "-------------------------\n",
      "x1 | x2 | Target | Prediction\n",
      "-------------------------\n",
      "0  | 0  | 0      | 0.2265\n",
      "0  | 1  | 1      | 0.9454\n",
      "1  | 0  | 1      | 0.9518\n",
      "1  | 1  | 0      | 0.3206\n"
     ]
    }
   ],
   "source": [
    "# Evaluate the model\n",
    "print(\"XOR Truth Table Predictions:\")\n",
    "print(\"-------------------------\")\n",
    "print(\"x1 | x2 | Target | Prediction\")\n",
    "print(\"-------------------------\")\n",
    "\n",
    "for i, x in enumerate(inputs):\n",
    "    pred = model(x).data\n",
    "    print(f\"{X[i][0]}  | {X[i][1]}  | {y[i]}      | {pred:.4f}\")"
   ]
  },
  {
   "cell_type": "markdown",
   "metadata": {},
   "source": [
    "## 5. Visualizing the Computational Graph\n",
    "\n",
    "Let's create a simple function to visualize a computational graph. We'll use a very basic text-based representation for now.\n"
   ]
  },
  {
   "cell_type": "code",
   "execution_count": 22,
   "metadata": {},
   "outputs": [
    {
     "name": "stdout",
     "output_type": "stream",
     "text": [
      "Computational Graph for z = x * y + x:\n",
      "Value(data=8.0, grad=1) (op: +)\n",
      "  Value(data=6.0, grad=1) (op: *)\n",
      "    Value(data=3.0, grad=2.0)\n",
      "    Value(data=2.0, grad=4.0)\n"
     ]
    }
   ],
   "source": [
    "def trace_graph(node, indent=0, visited=None):\n",
    "    if visited is None:\n",
    "        visited = set()\n",
    "    \n",
    "    if node in visited:\n",
    "        return\n",
    "    \n",
    "    visited.add(node)\n",
    "    \n",
    "    # Print current node\n",
    "    indent_str = \"  \" * indent\n",
    "    op_str = f\" (op: {node._op})\" if node._op else \"\"\n",
    "    print(f\"{indent_str}Value(data={node.data}, grad={node.grad}){op_str}\")\n",
    "    \n",
    "    # Recursively print children\n",
    "    for child in node._prev:\n",
    "        trace_graph(child, indent + 1, visited)\n",
    "\n",
    "# Let's create a simple expression\n",
    "x = Value(2.0)\n",
    "y = Value(3.0)\n",
    "z = x * y + x\n",
    "z.backward()\n",
    "\n",
    "print(\"Computational Graph for z = x * y + x:\")\n",
    "trace_graph(z)"
   ]
  },
  {
   "cell_type": "markdown",
   "metadata": {},
   "source": [
    "## 6. Conclusion: The Power of Backpropagation\n",
    "\n",
    "Let's summarize what we've learned about backpropagation:\n",
    "\n",
    "1. **Forward Pass**: The computational graph is constructed by performing operations on Values. Each operation records its inputs.\n",
    "\n",
    "2. **Backward Pass**: Starting from the final output, gradients are propagated backwards through the computational graph using the chain rule.\n",
    "\n",
    "3. **Key Properties**:\n",
    "\n",
    "   - Gradients flow backward through the computational graph\n",
    "   - The chain rule allows gradient computation for complex nested functions\n",
    "   - The gradient at a node is the sum of all gradients flowing into it from different paths\n",
    "\n",
    "4. **Neural Network Training**:\n",
    "   - Forward pass: compute predictions\n",
    "   - Compute loss\n",
    "   - Backward pass: compute gradients using backpropagation\n",
    "   - Update weights using gradient descent\n",
    "\n",
    "The beauty of automatic differentiation is that the computer handles all the complex derivative calculations for us. This enables training of sophisticated neural networks with millions or billions of parameters.\n"
   ]
  }
 ],
 "metadata": {
  "kernelspec": {
   "display_name": ".venv",
   "language": "python",
   "name": "python3"
  },
  "language_info": {
   "codemirror_mode": {
    "name": "ipython",
    "version": 3
   },
   "file_extension": ".py",
   "mimetype": "text/x-python",
   "name": "python",
   "nbconvert_exporter": "python",
   "pygments_lexer": "ipython3",
   "version": "3.12.8"
  }
 },
 "nbformat": 4,
 "nbformat_minor": 4
}
