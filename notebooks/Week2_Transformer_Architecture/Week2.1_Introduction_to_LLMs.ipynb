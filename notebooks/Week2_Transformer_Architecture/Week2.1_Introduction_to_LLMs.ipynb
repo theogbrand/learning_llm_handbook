{
 "cells": [
  {
   "cell_type": "markdown",
   "metadata": {},
   "source": "# Understanding Large Language Models: A Step-by-Step Journey\n\n## Our Goal\nIn this notebook, we will understand how language models predict text by following the complete process of predicting \"we love deep learning\" word by word. We'll explore four fundamental concepts that make modern language models like ChatGPT work:\n\n1. **Forward Pass**: How models generate predictions\n2. **Loss Calculation**: How we measure prediction quality  \n3. **Backpropagation**: How we identify what needs improvement\n4. **Gradient Descent**: How we make those improvements\n\n## Our Vocabulary and Target\nWe'll work with a simple vocabulary to keep things clear and manageable. Our model will learn to predict each word in our target sequence step by step.",
   "outputs": []
  },
  {
   "cell_type": "code",
   "metadata": {},
   "source": "# Setup our simple vocabulary and target sequence\nVOCAB = [\"<BOS>\", \"we\", \"love\", \"deep\", \"learning\", \"<EOS>\", \"the\", \"is\", \"great\", \"model\", \"hello\", \"world\"]\ntarget_sequence = [\"we\", \"love\", \"deep\", \"learning\"]\n\nprint(\"VOCABULARY:\", VOCAB)\nprint(\"TARGET SEQUENCE:\", target_sequence)\nprint(\"VOCABULARY SIZE:\", len(VOCAB))\n\n# Initialize simple model parameters (weights) - these will be updated during training\n# In real models, these would be millions or billions of parameters\nmodel_parameters = {\n    'layer1_weights': [0.1, -0.3, 0.5, 0.2, -0.1, 0.4, 0.8, -0.2, 0.3, -0.5, 0.7, -0.4],\n    'layer2_weights': [0.2, 0.1, -0.4, 0.6, 0.3, -0.2, -0.1, 0.5, -0.3, 0.4, -0.6, 0.1],\n    'output_weights': [0.3, -0.1, 0.4, -0.2, 0.5, 0.1, -0.3, 0.2, 0.6, -0.4, 0.1, 0.3]\n}\n\nprint(\"\\nInitial model parameters (simplified representation):\")\nprint(\"Layer 1 weights:\", len(model_parameters['layer1_weights']), \"parameters\")\nprint(\"Layer 2 weights:\", len(model_parameters['layer2_weights']), \"parameters\") \nprint(\"Output weights:\", len(model_parameters['output_weights']), \"parameters\")",
   "outputs": []
  }
 ],
 "metadata": {
  "language_info": {
   "name": "python"
  }
 },
 "nbformat": 4,
 "nbformat_minor": 2
}