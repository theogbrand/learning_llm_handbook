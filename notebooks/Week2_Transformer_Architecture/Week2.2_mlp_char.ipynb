{
 "cells": [
  {
   "cell_type": "markdown",
   "metadata": {},
   "source": [
    "# Multilayer Perceptrons (MLPs) for Character-Level Language Modeling\n",
    "\n",
    "This notebook builds on the concepts of backpropagation introduced in the previous lesson and explores how we can use MLPs to tackle character-level language modeling, inspired by Yoshua Bengio's 'Neural Probabilistic Language Model' paper.\n"
   ]
  },
  {
   "cell_type": "markdown",
   "metadata": {},
   "source": [
    "## 1. From Backpropagation to Neural Networks\n",
    "\n",
    "In the previous lesson, we explored how backpropagation allows us to efficiently compute gradients in computational graphs. Now we'll see how this enables training of more complex neural networks.\n",
    "\n",
    "Let's start by importing our required libraries:\n"
   ]
  },
  {
   "cell_type": "code",
   "execution_count": 4,
   "metadata": {},
   "outputs": [],
   "source": [
    "import torch\n",
    "import torch.nn.functional as F\n",
    "import numpy as np\n",
    "import matplotlib.pyplot as plt\n",
    "%matplotlib inline"
   ]
  },
  {
   "cell_type": "markdown",
   "metadata": {},
   "source": [
    "## 2. Character-Level Language Modeling\n",
    "\n",
    "We'll build a character-level language model for name generation, similar to the makemore example from Andrej Karpathy's nn-zero-to-hero series.\n",
    "\n",
    "First, let's load our dataset of names:\n"
   ]
  },
  {
   "cell_type": "code",
   "execution_count": 5,
   "metadata": {},
   "outputs": [
    {
     "name": "stdout",
     "output_type": "stream",
     "text": [
      "Total number of names: 32033\n",
      "First 10 examples: ['emma', 'olivia', 'ava', 'isabella', 'sophia', 'charlotte', 'mia', 'amelia', 'harper', 'evelyn']\n"
     ]
    }
   ],
   "source": [
    "# Load the names dataset\n",
    "with open('../../training_data/names.txt', 'r') as f:\n",
    "    names = f.read().splitlines()\n",
    "\n",
    "print(f\"Total number of names: {len(names)}\")\n",
    "print(f\"First 10 examples: {names[:10]}\")"
   ]
  },
  {
   "cell_type": "markdown",
   "metadata": {},
   "source": [
    "### 2.1 Building the Character Vocabulary\n",
    "\n",
    "For character-level language modeling, we first need to identify all unique characters in our dataset and create mappings between characters and indices:\n"
   ]
  },
  {
   "cell_type": "code",
   "execution_count": 6,
   "metadata": {},
   "outputs": [
    {
     "name": "stdout",
     "output_type": "stream",
     "text": [
      "Vocabulary size: 27\n",
      "Character mapping: {'a': 1, 'b': 2, 'c': 3, 'd': 4, 'e': 5, 'f': 6, 'g': 7, 'h': 8, 'i': 9, 'j': 10, 'k': 11, 'l': 12, 'm': 13, 'n': 14, 'o': 15, 'p': 16, 'q': 17, 'r': 18, 's': 19, 't': 20, 'u': 21, 'v': 22, 'w': 23, 'x': 24, 'y': 25, 'z': 26, '.': 0}\n"
     ]
    }
   ],
   "source": [
    "# Build the vocabulary of characters\n",
    "chars = sorted(list(set(''.join(names))))\n",
    "stoi = {s:i+1 for i,s in enumerate(chars)}  # mapping from char to index\n",
    "stoi['.'] = 0                               # special '.' token representing \"start/end of name\"\n",
    "itos = {i:s for s,i in stoi.items()}        # mapping from index to char\n",
    "\n",
    "print(f\"Vocabulary size: {len(stoi)}\")\n",
    "print(f\"Character mapping: {stoi}\")"
   ]
  },
  {
   "cell_type": "markdown",
   "metadata": {},
   "source": [
    "### 2.2 Generating Training Examples\n",
    "\n",
    "Our task is to predict the next character given a context of previous characters. We'll create a dataset from our names:\n"
   ]
  },
  {
   "cell_type": "code",
   "execution_count": 7,
   "metadata": {},
   "outputs": [
    {
     "name": "stdout",
     "output_type": "stream",
     "text": [
      "Training examples: 182625\n",
      "Validation examples: 22655\n",
      "Test examples: 22866\n"
     ]
    }
   ],
   "source": [
    "# Create a dataset of context-target pairs\n",
    "block_size = 3  # context length: how many characters do we take to predict the next one?\n",
    "\n",
    "def build_dataset(words):\n",
    "    X, Y = [], []\n",
    "    for w in words:\n",
    "        # Add the special '.' token at beginning and end\n",
    "        context = [0] * block_size  # initialize with block_size '.' tokens\n",
    "        for ch in w + '.':\n",
    "            ix = stoi[ch]\n",
    "            X.append(context)\n",
    "            Y.append(ix)\n",
    "            # Slide the context window by one character\n",
    "            context = context[1:] + [ix]\n",
    "    return torch.tensor(X), torch.tensor(Y)\n",
    "\n",
    "# Split the data into train/validation/test sets\n",
    "import random\n",
    "random.seed(42)\n",
    "random.shuffle(names)\n",
    "n1 = int(0.8 * len(names))\n",
    "n2 = int(0.9 * len(names))\n",
    "\n",
    "X_train, Y_train = build_dataset(names[:n1])\n",
    "X_val, Y_val = build_dataset(names[n1:n2])\n",
    "X_test, Y_test = build_dataset(names[n2:])\n",
    "\n",
    "print(f\"Training examples: {X_train.shape[0]}\")\n",
    "print(f\"Validation examples: {X_val.shape[0]}\")\n",
    "print(f\"Test examples: {X_test.shape[0]}\")"
   ]
  },
  {
   "cell_type": "markdown",
   "metadata": {},
   "source": [
    "Let's look at some training examples to understand the data:\n"
   ]
  },
  {
   "cell_type": "code",
   "execution_count": 8,
   "metadata": {},
   "outputs": [
    {
     "name": "stdout",
     "output_type": "stream",
     "text": [
      "Context -> Target examples:\n",
      "'...' -> 'y'\n",
      "'..y' -> 'u'\n",
      "'.yu' -> 'h'\n",
      "'yuh' -> 'e'\n",
      "'uhe' -> 'n'\n"
     ]
    }
   ],
   "source": [
    "# Show a few examples of context -> target in the training set\n",
    "print(\"Context -> Target examples:\")\n",
    "for i in range(5):\n",
    "    context = ''.join(itos[j] for j in X_train[i].tolist())\n",
    "    target = itos[Y_train[i].item()]\n",
    "    print(f\"'{context}' -> '{target}'\")"
   ]
  },
  {
   "cell_type": "markdown",
   "metadata": {},
   "source": [
    "## 3. Understanding the MLP Architecture for Language Modeling\n",
    "\n",
    "Let's build a model inspired by Karpathy's makemore example. We'll break down the architecture into components:\n",
    "\n",
    "1. **Embedding Layer**: Convert character indices to learned vectors\n",
    "2. **MLP Hidden Layer**: Process the flattened embeddings\n",
    "3. **Output Layer**: Produce logits for next character prediction\n"
   ]
  },
  {
   "cell_type": "code",
   "execution_count": 9,
   "metadata": {},
   "outputs": [
    {
     "name": "stdout",
     "output_type": "stream",
     "text": [
      "Character embedding matrix shape: torch.Size([27, 10])\n",
      "Input batch shape: torch.Size([32, 3])\n",
      "Embeddings shape: torch.Size([32, 3, 10])\n",
      "Flattened embeddings shape: torch.Size([32, 30])\n"
     ]
    }
   ],
   "source": [
    "# Let's see how our data shapes would flow through the network\n",
    "# Initialize random parameters\n",
    "vocab_size = len(stoi)  # size of character vocabulary\n",
    "embedding_dim = 10      # size of embedding vectors\n",
    "\n",
    "# Random character embeddings\n",
    "C = torch.randn((vocab_size, embedding_dim))\n",
    "print(f\"Character embedding matrix shape: {C.shape}\")\n",
    "\n",
    "# Look at a sample batch of inputs\n",
    "sample_batch = X_train[:32]  # take 32 examples\n",
    "print(f\"Input batch shape: {sample_batch.shape}\")\n",
    "\n",
    "# Get embeddings for each character in the context\n",
    "emb = C[sample_batch]  # look up embeddings for each character\n",
    "print(f\"Embeddings shape: {emb.shape}\")\n",
    "\n",
    "# Reshape to prepare for the MLP\n",
    "emb_flat = emb.reshape(emb.shape[0], -1)  # flatten the context embeddings\n",
    "print(f\"Flattened embeddings shape: {emb_flat.shape}\")"
   ]
  },
  {
   "cell_type": "code",
   "execution_count": 10,
   "metadata": {},
   "outputs": [],
   "source": [
    "# Now let's define our full model\n",
    "class NameGenerationMLP(torch.nn.Module):\n",
    "    def __init__(self, vocab_size, embedding_dim, context_size, hidden_dim):\n",
    "        super().__init__()\n",
    "        # Embedding layer\n",
    "        self.embeddings = torch.nn.Embedding(vocab_size, embedding_dim)\n",
    "        \n",
    "        # Calculate input dimension for hidden layer\n",
    "        input_dim = context_size * embedding_dim\n",
    "        \n",
    "        # Hidden layer\n",
    "        self.hidden = torch.nn.Linear(input_dim, hidden_dim)\n",
    "        \n",
    "        # Output layer\n",
    "        self.output = torch.nn.Linear(hidden_dim, vocab_size)\n",
    "        \n",
    "    def forward(self, x):\n",
    "        # x shape: (batch_size, context_size)\n",
    "        \n",
    "        # Get embeddings\n",
    "        emb = self.embeddings(x)  # (batch_size, context_size, embedding_dim)\n",
    "        \n",
    "        # Flatten embeddings\n",
    "        emb_flat = emb.view(emb.shape[0], -1)  # (batch_size, context_size * embedding_dim)\n",
    "        \n",
    "        # Apply hidden layer with tanh activation\n",
    "        h = torch.tanh(self.hidden(emb_flat))  # (batch_size, hidden_dim)\n",
    "        \n",
    "        # Apply output layer to get logits\n",
    "        logits = self.output(h)  # (batch_size, vocab_size)\n",
    "        \n",
    "        return logits"
   ]
  },
  {
   "cell_type": "markdown",
   "metadata": {},
   "source": [
    "Let's initialize our model with reasonable hyperparameters:\n"
   ]
  },
  {
   "cell_type": "code",
   "execution_count": 11,
   "metadata": {},
   "outputs": [
    {
     "name": "stdout",
     "output_type": "stream",
     "text": [
      "NameGenerationMLP(\n",
      "  (embeddings): Embedding(27, 10)\n",
      "  (hidden): Linear(in_features=30, out_features=200, bias=True)\n",
      "  (output): Linear(in_features=200, out_features=27, bias=True)\n",
      ")\n",
      "Total number of parameters: 11897\n"
     ]
    }
   ],
   "source": [
    "# Model hyperparameters\n",
    "embedding_dim = 10     # Dimension of character embeddings\n",
    "context_size = block_size  # Number of context characters\n",
    "hidden_dim = 200       # Size of hidden layer\n",
    "\n",
    "# Create the model\n",
    "model = NameGenerationMLP(vocab_size, embedding_dim, context_size, hidden_dim)\n",
    "\n",
    "# Display model architecture\n",
    "print(model)\n",
    "\n",
    "# Count total parameters\n",
    "total_params = sum(p.numel() for p in model.parameters())\n",
    "print(f\"Total number of parameters: {total_params}\")"
   ]
  },
  {
   "cell_type": "markdown",
   "metadata": {},
   "source": [
    "## 4. Training the Model\n",
    "\n",
    "Now let's train our model using minibatch gradient descent:\n"
   ]
  },
  {
   "cell_type": "code",
   "execution_count": 12,
   "metadata": {},
   "outputs": [
    {
     "name": "stdout",
     "output_type": "stream",
     "text": [
      "Epoch 1/10, Train Loss: 2.3808, Val Loss: 2.5395\n",
      "Epoch 2/10, Train Loss: 2.2786, Val Loss: 2.4266\n",
      "Epoch 3/10, Train Loss: 2.2418, Val Loss: 2.5274\n",
      "Epoch 4/10, Train Loss: 2.2194, Val Loss: 2.4611\n",
      "Epoch 5/10, Train Loss: 2.2040, Val Loss: 2.2141\n",
      "Epoch 6/10, Train Loss: 2.1920, Val Loss: 2.5344\n",
      "Epoch 7/10, Train Loss: 2.1840, Val Loss: 2.5597\n",
      "Epoch 8/10, Train Loss: 2.1770, Val Loss: 2.4171\n",
      "Epoch 9/10, Train Loss: 2.1711, Val Loss: 2.3381\n",
      "Epoch 10/10, Train Loss: 2.1678, Val Loss: 2.3447\n"
     ]
    },
    {
     "data": {
      "image/png": "[encoded data removed]",
      "text/plain": [
       "<Figure size 1000x600 with 1 Axes>"
      ]
     },
     "metadata": {},
     "output_type": "display_data"
    }
   ],
   "source": [
    "# Training configuration\n",
    "batch_size = 32\n",
    "learning_rate = 0.1\n",
    "num_epochs = 10\n",
    "\n",
    "# Loss function and optimizer\n",
    "criterion = torch.nn.CrossEntropyLoss()\n",
    "optimizer = torch.optim.SGD(model.parameters(), lr=learning_rate)\n",
    "\n",
    "# Training loop\n",
    "train_losses = []\n",
    "val_losses = []\n",
    "\n",
    "for epoch in range(num_epochs):\n",
    "    # Training phase\n",
    "    model.train()\n",
    "    total_loss = 0\n",
    "    batch_count = 0\n",
    "    \n",
    "    # Create random permutation of training examples\n",
    "    indices = torch.randperm(X_train.shape[0])\n",
    "    \n",
    "    # Train in batches\n",
    "    for i in range(0, X_train.shape[0], batch_size):\n",
    "        # Get a batch\n",
    "        idx = indices[i:i+batch_size]\n",
    "        inputs = X_train[idx]\n",
    "        targets = Y_train[idx]\n",
    "        \n",
    "        # Forward pass\n",
    "        logits = model(inputs)\n",
    "        loss = criterion(logits, targets)\n",
    "        \n",
    "        # Backward pass and optimization\n",
    "        optimizer.zero_grad()\n",
    "        loss.backward()\n",
    "        optimizer.step()\n",
    "        \n",
    "        # Track statistics\n",
    "        total_loss += loss.item()\n",
    "        batch_count += 1\n",
    "    \n",
    "    # Calculate average loss for this epoch\n",
    "    avg_train_loss = total_loss / batch_count\n",
    "    train_losses.append(avg_train_loss)\n",
    "    \n",
    "    # Validation phase\n",
    "    model.eval()\n",
    "    with torch.no_grad():\n",
    "        val_logits = model(X_val)\n",
    "        val_loss = criterion(val_logits, Y_val).item()\n",
    "        val_losses.append(val_loss)\n",
    "    \n",
    "    print(f\"Epoch {epoch+1}/{num_epochs}, Train Loss: {avg_train_loss:.4f}, Val Loss: {val_loss:.4f}\")\n",
    "\n",
    "# Plot the losses\n",
    "plt.figure(figsize=(10, 6))\n",
    "plt.plot(train_losses, label='Training Loss')\n",
    "plt.plot(val_losses, label='Validation Loss')\n",
    "plt.xlabel('Epoch')\n",
    "plt.ylabel('Loss')\n",
    "plt.title('Training and Validation Loss')\n",
    "plt.legend()\n",
    "plt.grid(True)\n",
    "plt.show()"
   ]
  },
  {
   "cell_type": "markdown",
   "metadata": {},
   "source": [
    "## 5. Evaluating the Model\n",
    "\n",
    "Let's evaluate our model on the test set and examine its performance:\n"
   ]
  },
  {
   "cell_type": "code",
   "execution_count": 13,
   "metadata": {},
   "outputs": [
    {
     "name": "stdout",
     "output_type": "stream",
     "text": [
      "Test Loss: 2.3457\n",
      "Accuracy: 0.3112 (7116/22866)\n"
     ]
    }
   ],
   "source": [
    "# Evaluate on test set\n",
    "model.eval()\n",
    "with torch.no_grad():\n",
    "    # Compute loss\n",
    "    test_logits = model(X_test)\n",
    "    test_loss = criterion(test_logits, Y_test)\n",
    "    \n",
    "    # Compute accuracy\n",
    "    _, predicted = torch.max(test_logits, 1)\n",
    "    correct = (predicted == Y_test).sum().item()\n",
    "    total = Y_test.size(0)\n",
    "    accuracy = correct / total\n",
    "    \n",
    "print(f\"Test Loss: {test_loss.item():.4f}\")\n",
    "print(f\"Accuracy: {accuracy:.4f} ({correct}/{total})\")"
   ]
  },
  {
   "cell_type": "markdown",
   "metadata": {},
   "source": [
    "## 6. Generating New Names\n",
    "\n",
    "Now for the fun part - let's use our trained model to generate new names! We'll sample one character at a time following the model's predictions:\n"
   ]
  },
  {
   "cell_type": "code",
   "execution_count": 14,
   "metadata": {},
   "outputs": [
    {
     "name": "stdout",
     "output_type": "stream",
     "text": [
      "Generated Names:\n",
      "---------------\n",
      "motan\n",
      "romi\n",
      "ada\n",
      "madeyah\n",
      "mhie\n",
      "mazie\n",
      "emey\n",
      "mis\n",
      "may\n",
      "mih\n",
      "mayan\n",
      "moni\n",
      "maahrissa\n",
      "maki\n",
      "mandalynn\n",
      "miria\n",
      "brah\n",
      "neid\n",
      "mavukt\n",
      "man\n"
     ]
    }
   ],
   "source": [
    "def generate_name(model, max_length=20):\n",
    "    \"\"\"\n",
    "    Generate a new name using the trained model.\n",
    "    \"\"\"\n",
    "    # Start with all '.' tokens (beginning of name)\n",
    "    context = [0] * block_size\n",
    "    name = []\n",
    "    \n",
    "    # Generate one character at a time\n",
    "    model.eval()\n",
    "    with torch.no_grad():\n",
    "        while True:\n",
    "            # Get model predictions\n",
    "            x = torch.tensor([context])\n",
    "            logits = model(x)\n",
    "            probs = F.softmax(logits, dim=1)\n",
    "            \n",
    "            # Sample a character from the distribution\n",
    "            idx = torch.multinomial(probs, num_samples=1).item()\n",
    "            \n",
    "            # If we get '.' or reach max length, we're done\n",
    "            if idx == 0 or len(name) >= max_length:\n",
    "                break\n",
    "                \n",
    "            # Add the character to our name\n",
    "            name.append(itos[idx])\n",
    "            \n",
    "            # Update the context by sliding the window\n",
    "            context = context[1:] + [idx]\n",
    "    \n",
    "    return ''.join(name)\n",
    "\n",
    "# Generate 20 names\n",
    "print(\"Generated Names:\")\n",
    "print(\"---------------\")\n",
    "for _ in range(20):\n",
    "    print(generate_name(model))"
   ]
  },
  {
   "cell_type": "markdown",
   "metadata": {},
   "source": [
    "## 7. Understanding the Model's Predictions\n",
    "\n",
    "Let's examine what the model has learned by looking at its predictions for different character contexts:\n"
   ]
  },
  {
   "cell_type": "code",
   "execution_count": 15,
   "metadata": {},
   "outputs": [
    {
     "name": "stdout",
     "output_type": "stream",
     "text": [
      "Context: '...'\n",
      "Top 5 predicted next characters:\n",
      "  'm': 73.96%\n",
      "  's': 3.19%\n",
      "  'j': 2.38%\n",
      "  'l': 2.19%\n",
      "  'k': 2.17%\n",
      "\n",
      "Context: 'joh'\n",
      "Top 5 predicted next characters:\n",
      "  'a': 48.19%\n",
      "  'n': 21.82%\n",
      "  'i': 13.36%\n",
      "  'e': 7.83%\n",
      "  'y': 1.53%\n",
      "\n",
      "Context: 'mar'\n",
      "Top 5 predicted next characters:\n",
      "  'i': 53.36%\n",
      "  'y': 8.92%\n",
      "  'a': 6.16%\n",
      "  'e': 5.07%\n",
      "  'l': 4.84%\n",
      "\n",
      "Context: 'sar'\n",
      "Top 5 predicted next characters:\n",
      "  'i': 32.52%\n",
      "  'a': 19.90%\n",
      "  'y': 11.11%\n",
      "  'e': 5.88%\n",
      "  '.': 5.09%\n",
      "\n",
      "Context: 'eli'\n",
      "Top 5 predicted next characters:\n",
      "  'a': 32.62%\n",
      "  'n': 15.11%\n",
      "  's': 10.45%\n",
      "  '.': 9.01%\n",
      "  'z': 6.93%\n",
      "\n",
      "Context: '.th'\n",
      "Top 5 predicted next characters:\n",
      "  'a': 56.29%\n",
      "  'e': 24.81%\n",
      "  'i': 7.56%\n",
      "  'y': 5.41%\n",
      "  'o': 3.87%\n",
      "\n"
     ]
    }
   ],
   "source": [
    "def analyze_context(model, context_str):\n",
    "    \"\"\"\n",
    "    Analyze the model's predictions for a given context string.\n",
    "    \"\"\"\n",
    "    # Ensure context is the right length\n",
    "    if len(context_str) < block_size:\n",
    "        context_str = '.' * (block_size - len(context_str)) + context_str\n",
    "    elif len(context_str) > block_size:\n",
    "        context_str = context_str[-block_size:]\n",
    "    \n",
    "    # Convert to indices\n",
    "    context = [stoi.get(c, 0) for c in context_str]  # Use 0 if character not in vocab\n",
    "    \n",
    "    # Get model predictions\n",
    "    model.eval()\n",
    "    with torch.no_grad():\n",
    "        x = torch.tensor([context])\n",
    "        logits = model(x)\n",
    "        probs = F.softmax(logits, dim=1)[0]\n",
    "    \n",
    "    # Display top 5 predictions\n",
    "    top_probs, top_indices = torch.topk(probs, 5)\n",
    "    \n",
    "    print(f\"Context: '{context_str}'\")\n",
    "    print(\"Top 5 predicted next characters:\")\n",
    "    for i in range(5):\n",
    "        char = itos[top_indices[i].item()]\n",
    "        prob = top_probs[i].item() * 100\n",
    "        print(f\"  '{char}': {prob:.2f}%\")\n",
    "    print()\n",
    "\n",
    "# Test with some sample contexts\n",
    "contexts = ['...', 'joh', 'mar', 'sar', 'eli', 'th']\n",
    "for ctx in contexts:\n",
    "    analyze_context(model, ctx)"
   ]
  },
  {
   "cell_type": "markdown",
   "metadata": {},
   "source": [
    "## 8. How This Relates to Modern Neural Networks\n",
    "\n",
    "The MLP we've built here is a foundational architecture in neural language modeling, directly inspired by Bengio's original paper. Here's how it compares to more advanced models:\n",
    "\n",
    "### Key Limitations:\n",
    "\n",
    "1. **Fixed Context Window**: Our model can only see a fixed number of previous characters.\n",
    "2. **No Parameter Sharing**: Characters in different positions don't share weights.\n",
    "3. **No Recurrence**: There's no built-in mechanism to maintain state across predictions.\n",
    "\n",
    "### How Modern Architectures Improve on This:\n",
    "\n",
    "1. **RNNs/LSTMs**: Add recurrent connections to maintain state across time steps.\n",
    "2. **Transformers**: Use attention mechanisms to weigh the importance of different context elements.\n",
    "3. **Positional Encodings**: Add position information to help the model understand sequence order.\n",
    "\n",
    "Despite these limitations, our model demonstrates the core ideas of neural language modeling and shows how even a simple MLP can learn useful patterns for text generation.\n"
   ]
  },
  {
   "cell_type": "markdown",
   "metadata": {},
   "source": [
    "## Conclusion\n",
    "\n",
    "In this notebook, we've explored how MLPs can be applied to character-level language modeling for name generation. We've seen:\n",
    "\n",
    "1. How to prepare character-level data for language modeling\n",
    "2. How to design and implement an MLP architecture for next-character prediction\n",
    "3. How to train the model and generate new names\n",
    "4. How to analyze and visualize what the model has learned\n",
    "\n",
    "This approach represents a key stepping stone from traditional n-gram models toward modern neural language models. By learning continuous representations for characters and modeling their relationships, our model can capture complex patterns in the data and generate reasonably realistic names.\n"
   ]
  }
 ],
 "metadata": {
  "kernelspec": {
   "display_name": ".venv",
   "language": "python",
   "name": "python3"
  },
  "language_info": {
   "codemirror_mode": {
    "name": "ipython",
    "version": 3
   },
   "file_extension": ".py",
   "mimetype": "text/x-python",
   "name": "python",
   "nbconvert_exporter": "python",
   "pygments_lexer": "ipython3",
   "version": "3.12.8"
  }
 },
 "nbformat": 4,
 "nbformat_minor": 4
}
