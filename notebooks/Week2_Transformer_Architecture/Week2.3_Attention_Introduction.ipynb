{
 "cells": [
  {
   "cell_type": "markdown",
   "metadata": {},
   "source": [
    "# Week 2.2: Introduction to Attention Mechanisms\n",
    "\n",
    "## Overview\n",
    "In this notebook, we'll explore the fundamental concept of *attention* in Transformer models. Attention mechanisms are the core innovation that allowed Transformers to revolutionize NLP and eventually lead to modern Large Language Models (LLMs).\n",
    "\n",
    "We'll break down the mathematics behind self-attention, implement it step by step, and understand how it enables models to capture relationships between words regardless of their distance in a sequence."
   ]
  },
  {
   "cell_type": "code",
   "execution_count": 1,
   "metadata": {},
   "outputs": [],
   "source": [
    "import torch\n",
    "import torch.nn as nn\n",
    "import torch.nn.functional as F\n",
    "import matplotlib.pyplot as plt\n",
    "import numpy as np\n",
    "from torch.nn import functional as F"
   ]
  },
  {
   "cell_type": "markdown",
   "metadata": {},
   "source": [
    "## 1. The Problem: Context in Language Modeling\n",
    "\n",
    "Let's start by understanding the fundamental challenge that attention solves. From analysing simple character level n-gram models, we observed how incorporating longer context (from single characters to n-characters to words) resulted in \"sentence completers\" that produced more \"interesting\" generations.\n",
    "\n",
    "Before the Transformer architecture, other neural network architectures (like RNNs and LSTMs) attempted to lean into the idea of capturing long-range dependencies, but faced many constraints. These models processed words sequentially, and information from early words would get diluted as the sequence grew longer.\n",
    "\n",
    "A simple theoretical example of a long-range dependency:\n",
    "- \"The cat, which was sitting on the mat, **purrs**.\"\n",
    "- \"The cats, which were sitting on the mat, **purr**.\"\n",
    "\n",
    "The verb at the end needs to agree with the subject at the beginning, even though they're separated by several words."
   ]
  },
  {
   "cell_type": "markdown",
   "metadata": {},
   "source": [
    "## 2. The Key Insight: Direct Access Through Attention\n",
    "\n",
    "The breakthrough idea in attention is surprisingly simple: **let each word directly access every other word in the sequence**.\n",
    "\n",
    "Instead of forcing information to flow through a chain of sequential operations, attention creates direct pathways between any two positions in a sequence.\n",
    "\n",
    "This simple idea has profound implications, as it allows the model to:\n",
    "- Capture long-range dependencies with ease\n",
    "- Process sequences in parallel rather than sequentially\n",
    "- Learn which connections are important for a given task"
   ]
  },
  {
   "cell_type": "markdown",
   "metadata": {},
   "source": [
    "## 3. Self-Attention: Mathematical Intuition\n",
    "\n",
    "At its core, self-attention is about computing weighted averages of a sequence. The weights are determined by how relevant each token is to the current token being processed.\n",
    "\n",
    "Let's break down the mathematics step by step:\n",
    "\n",
    "1. **Queries, Keys, and Values**:\n",
    "   For each token in our sequence, we compute three vectors:\n",
    "   - Query (Q): What information is this token looking for?\n",
    "   - Key (K): What information does this token contain?\n",
    "   - Value (V): The actual content/information of this token\n",
    "\n",
    "2. **Attention Scores**:\n",
    "   We compute how much each token should attend to every other token by taking the dot product of queries and keys:\n",
    "   - Score = Q · K^T\n",
    "\n",
    "3. **Scaling and Softmax**:\n",
    "   - Scale the scores by 1/√(dimension of keys) to prevent vanishing gradients\n",
    "   - Apply softmax to get normalized attention weights\n",
    "\n",
    "4. **Weighted Sum**:\n",
    "   - Multiply attention weights by value vectors and sum them up\n",
    "   - This gives us the output of the attention mechanism\n",
    "\n",
    "Mathematically, the self-attention operation is:\n",
    "\n",
    "$$\\text{Attention}(Q, K, V) = \\text{softmax}\\left(\\frac{QK^T}{\\sqrt{d_k}}\\right)V$$\n",
    "\n",
    "Where:\n",
    "- Q, K, V are matrices containing the queries, keys, and values for all tokens\n",
    "- d_k is the dimension of the keys"
   ]
  },
  {
   "cell_type": "markdown",
   "metadata": {},
   "source": [
    "## 4. Visualizing Self-Attention\n",
    "\n",
    "Let's visualize self-attention for a simple example to build intuition. We'll create a toy sequence and see how attention works."
   ]
  },
  {
   "cell_type": "code",
   "execution_count": 2,
   "metadata": {},
   "outputs": [
    {
     "name": "stdout",
     "output_type": "stream",
     "text": [
      "Token embeddings:\n",
      "tensor([[ 1.9269,  1.4873,  0.9007, -2.1055,  0.6784, -1.2345, -0.0431, -1.6047],\n",
      "        [-0.7521,  1.6487, -0.3925, -1.4036, -0.7279, -0.5594, -0.7688,  0.7624],\n",
      "        [ 1.6423, -0.1596, -0.4974,  0.4396, -0.7581,  1.0783,  0.8008,  1.6806],\n",
      "        [ 1.2791,  1.2964,  0.6105,  1.3347, -0.2316,  0.0418, -0.2516,  0.8599]])\n"
     ]
    }
   ],
   "source": [
    "# Define a simple sequence\n",
    "sequence_length = 4\n",
    "d_model = 8  # Embedding dimension\n",
    "\n",
    "# Random embedding vectors for 4 tokens\n",
    "torch.manual_seed(42)  # For reproducibility\n",
    "embeddings = torch.randn(sequence_length, d_model)\n",
    "print(\"Token embeddings:\")\n",
    "print(embeddings)"
   ]
  },
  {
   "cell_type": "code",
   "execution_count": 3,
   "metadata": {},
   "outputs": [
    {
     "name": "stdout",
     "output_type": "stream",
     "text": [
      "Queries shape: torch.Size([4, 8])\n",
      "Keys shape: torch.Size([4, 8])\n",
      "Values shape: torch.Size([4, 8])\n"
     ]
    }
   ],
   "source": [
    "# Create random projection matrices for Q, K, V\n",
    "d_k = d_model  # Dimension of queries and keys\n",
    "d_v = d_model  # Dimension of values\n",
    "\n",
    "W_q = torch.randn(d_model, d_k)\n",
    "W_k = torch.randn(d_model, d_k)\n",
    "W_v = torch.randn(d_model, d_v)\n",
    "\n",
    "# Compute Q, K, V\n",
    "Q = embeddings @ W_q  # Shape: [sequence_length, d_k]\n",
    "K = embeddings @ W_k  # Shape: [sequence_length, d_k]\n",
    "V = embeddings @ W_v  # Shape: [sequence_length, d_v]\n",
    "\n",
    "print(\"Queries shape:\", Q.shape)\n",
    "print(\"Keys shape:\", K.shape)\n",
    "print(\"Values shape:\", V.shape)"
   ]
  },
  {
   "cell_type": "code",
   "execution_count": 4,
   "metadata": {},
   "outputs": [
    {
     "name": "stdout",
     "output_type": "stream",
     "text": [
      "Attention scores (before scaling):\n",
      "tensor([[ 48.3592,  -1.4314,   7.0602,  16.1742],\n",
      "        [  1.8840,  14.5877, -10.8521, -11.8844],\n",
      "        [-20.8970,  -3.9824,  16.8504,   5.9619],\n",
      "        [  7.2162,   3.6702,  49.6052,  35.6275]])\n",
      "\n",
      "Attention scores (after scaling):\n",
      "tensor([[17.0975, -0.5061,  2.4962,  5.7184],\n",
      "        [ 0.6661,  5.1575, -3.8368, -4.2018],\n",
      "        [-7.3882, -1.4080,  5.9575,  2.1079],\n",
      "        [ 2.5513,  1.2976, 17.5381, 12.5962]])\n"
     ]
    }
   ],
   "source": [
    "# Compute attention scores\n",
    "scores = Q @ K.transpose(0, 1)  # Shape: [sequence_length, sequence_length]\n",
    "print(\"Attention scores (before scaling):\")\n",
    "print(scores)\n",
    "\n",
    "# Scale scores\n",
    "scores = scores / (d_k ** 0.5)\n",
    "print(\"\\nAttention scores (after scaling):\")\n",
    "print(scores)"
   ]
  },
  {
   "cell_type": "code",
   "execution_count": 5,
   "metadata": {},
   "outputs": [
    {
     "name": "stdout",
     "output_type": "stream",
     "text": [
      "Attention weights:\n",
      "tensor([[9.9999e-01, 2.2638e-08, 4.5571e-07, 1.1432e-05],\n",
      "        [1.1078e-02, 9.8871e-01, 1.2271e-04, 8.5188e-05],\n",
      "        [1.5654e-06, 6.1913e-04, 9.7855e-01, 2.0830e-02],\n",
      "        [3.0778e-07, 8.7853e-08, 9.9291e-01, 7.0906e-03]])\n",
      "\n",
      "Row sums (should all be 1.0):\n",
      "tensor([1., 1., 1., 1.])\n"
     ]
    }
   ],
   "source": [
    "# Apply softmax to get attention weights\n",
    "weights = F.softmax(scores, dim=-1)\n",
    "print(\"Attention weights:\")\n",
    "print(weights)\n",
    "\n",
    "# Verify that weights sum to 1 for each token\n",
    "print(\"\\nRow sums (should all be 1.0):\")\n",
    "print(weights.sum(dim=1))"
   ]
  },
  {
   "cell_type": "code",
   "execution_count": 6,
   "metadata": {},
   "outputs": [
    {
     "name": "stdout",
     "output_type": "stream",
     "text": [
      "Self-attention output:\n",
      "tensor([[-3.6925,  0.7997,  9.4704, -2.5174, -6.2702, -0.8382, -3.9583, -3.3199],\n",
      "        [-1.7831,  5.1673,  3.8020,  2.5630, -3.0025,  1.5952,  0.3802,  5.1056],\n",
      "        [-5.2188,  3.3771, -5.2385,  0.9001,  3.2845, -0.4186,  3.6742, -0.9937],\n",
      "        [-5.2142,  3.4009, -5.2754,  0.8955,  3.3392, -0.3942,  3.6949, -1.0621]])\n"
     ]
    }
   ],
   "source": [
    "# Compute weighted sum of values\n",
    "output = weights @ V  # Shape: [sequence_length, d_v]\n",
    "print(\"Self-attention output:\")\n",
    "print(output)"
   ]
  },
  {
   "cell_type": "code",
   "execution_count": 7,
   "metadata": {},
   "outputs": [
    {
     "data": {
      "image/png": "[encoded data removed]",
      "text/plain": [
       "<Figure size 600x600 with 2 Axes>"
      ]
     },
     "metadata": {},
     "output_type": "display_data"
    }
   ],
   "source": [
    "# Visualize attention weights\n",
    "plt.figure(figsize=(6, 6))\n",
    "plt.imshow(weights.detach().numpy(), cmap='viridis')\n",
    "plt.colorbar()\n",
    "plt.title('Self-Attention Weights')\n",
    "plt.xlabel('Key positions')\n",
    "plt.ylabel('Query positions')\n",
    "plt.xticks(np.arange(sequence_length))\n",
    "plt.yticks(np.arange(sequence_length))\n",
    "plt.grid(False)\n",
    "plt.show()"
   ]
  },
  {
   "cell_type": "markdown",
   "metadata": {},
   "source": [
    "## 5. Implementing Self-Attention in PyTorch\n",
    "\n",
    "Now, let's implement self-attention as a PyTorch module."
   ]
  },
  {
   "cell_type": "code",
   "execution_count": 8,
   "metadata": {},
   "outputs": [],
   "source": [
    "class SelfAttention(nn.Module):\n",
    "    def __init__(self, d_model, d_k=None, d_v=None):\n",
    "        super().__init__()\n",
    "        d_k = d_k or d_model\n",
    "        d_v = d_v or d_model\n",
    "        \n",
    "        self.d_k = d_k\n",
    "        self.W_q = nn.Linear(d_model, d_k, bias=False)\n",
    "        self.W_k = nn.Linear(d_model, d_k, bias=False)\n",
    "        self.W_v = nn.Linear(d_model, d_v, bias=False)\n",
    "        self.W_o = nn.Linear(d_v, d_model, bias=False)\n",
    "        \n",
    "    def forward(self, x, mask=None):\n",
    "        # x shape: [batch_size, sequence_length, d_model]\n",
    "        batch_size, sequence_length, _ = x.shape\n",
    "        \n",
    "        # Compute Q, K, V\n",
    "        Q = self.W_q(x)  # [batch_size, sequence_length, d_k]\n",
    "        K = self.W_k(x)  # [batch_size, sequence_length, d_k]\n",
    "        V = self.W_v(x)  # [batch_size, sequence_length, d_v]\n",
    "        \n",
    "        # Compute attention scores\n",
    "        scores = torch.matmul(Q, K.transpose(-2, -1)) / (self.d_k ** 0.5)  # [batch_size, sequence_length, sequence_length]\n",
    "        \n",
    "        # Apply mask (if provided)\n",
    "        if mask is not None:\n",
    "            scores = scores.masked_fill(mask == 0, -1e9)\n",
    "        \n",
    "        # Apply softmax to get attention weights\n",
    "        weights = F.softmax(scores, dim=-1)  # [batch_size, sequence_length, sequence_length]\n",
    "        \n",
    "        # Compute weighted sum of values\n",
    "        output = torch.matmul(weights, V)  # [batch_size, sequence_length, d_v]\n",
    "        \n",
    "        # Apply output projection\n",
    "        output = self.W_o(output)  # [batch_size, sequence_length, d_model]\n",
    "        \n",
    "        return output, weights"
   ]
  },
  {
   "cell_type": "code",
   "execution_count": 9,
   "metadata": {},
   "outputs": [
    {
     "name": "stdout",
     "output_type": "stream",
     "text": [
      "Input shape: torch.Size([2, 4, 8])\n",
      "Output shape: torch.Size([2, 4, 8])\n",
      "Attention weights shape: torch.Size([2, 4, 4])\n"
     ]
    }
   ],
   "source": [
    "# Test our implementation\n",
    "batch_size = 2\n",
    "sequence_length = 4\n",
    "d_model = 8\n",
    "\n",
    "# Create random input tensor\n",
    "x = torch.randn(batch_size, sequence_length, d_model)\n",
    "\n",
    "# Initialize self-attention module\n",
    "self_attention = SelfAttention(d_model)\n",
    "\n",
    "# Forward pass\n",
    "output, weights = self_attention(x)\n",
    "\n",
    "print(f\"Input shape: {x.shape}\")\n",
    "print(f\"Output shape: {output.shape}\")\n",
    "print(f\"Attention weights shape: {weights.shape}\")"
   ]
  },
  {
   "cell_type": "markdown",
   "metadata": {},
   "source": [
    "## 6. Masked Self-Attention for Language Modeling\n",
    "\n",
    "In language modeling, we want to predict the next token based only on previous tokens. To prevent the model from \"cheating\" by looking at future tokens, we use a mask that hides future positions.\n",
    "\n",
    "Let's implement masked self-attention:"
   ]
  },
  {
   "cell_type": "code",
   "execution_count": 10,
   "metadata": {},
   "outputs": [
    {
     "name": "stdout",
     "output_type": "stream",
     "text": [
      "Causal mask for sequence_length=5:\n",
      "tensor([[1., 0., 0., 0., 0.],\n",
      "        [1., 1., 0., 0., 0.],\n",
      "        [1., 1., 1., 0., 0.],\n",
      "        [1., 1., 1., 1., 0.],\n",
      "        [1., 1., 1., 1., 1.]])\n"
     ]
    }
   ],
   "source": [
    "def create_causal_mask(sequence_length):\n",
    "    \"\"\"Create a causal mask for masked self-attention.\"\"\"\n",
    "    # Lower triangular matrix of ones\n",
    "    mask = torch.tril(torch.ones(sequence_length, sequence_length))\n",
    "    return mask\n",
    "\n",
    "# Example\n",
    "mask = create_causal_mask(5)\n",
    "print(\"Causal mask for sequence_length=5:\")\n",
    "print(mask)"
   ]
  },
  {
   "cell_type": "code",
   "execution_count": 11,
   "metadata": {},
   "outputs": [
    {
     "name": "stdout",
     "output_type": "stream",
     "text": [
      "Masked attention weights (each row shows which positions a token can attend to):\n",
      "tensor([[1.0000, 0.0000, 0.0000, 0.0000, 0.0000],\n",
      "        [0.2605, 0.7395, 0.0000, 0.0000, 0.0000],\n",
      "        [0.2025, 0.1859, 0.6116, 0.0000, 0.0000],\n",
      "        [0.2658, 0.2540, 0.0900, 0.3901, 0.0000],\n",
      "        [0.1623, 0.2064, 0.1695, 0.2603, 0.2015]], grad_fn=<SelectBackward0>)\n"
     ]
    }
   ],
   "source": [
    "# Test masked self-attention\n",
    "batch_size = 1\n",
    "sequence_length = 5\n",
    "d_model = 8\n",
    "\n",
    "# Create random input tensor\n",
    "x = torch.randn(batch_size, sequence_length, d_model)\n",
    "\n",
    "# Create causal mask\n",
    "mask = create_causal_mask(sequence_length).unsqueeze(0)  # Add batch dimension\n",
    "\n",
    "# Initialize self-attention module\n",
    "self_attention = SelfAttention(d_model)\n",
    "\n",
    "# Forward pass with mask\n",
    "output, weights = self_attention(x, mask)\n",
    "\n",
    "print(\"Masked attention weights (each row shows which positions a token can attend to):\")\n",
    "print(weights[0])  # First batch"
   ]
  },
  {
   "cell_type": "code",
   "execution_count": 12,
   "metadata": {},
   "outputs": [
    {
     "data": {
      "image/png": "[encoded data removed]",
      "text/plain": [
       "<Figure size 600x600 with 2 Axes>"
      ]
     },
     "metadata": {},
     "output_type": "display_data"
    }
   ],
   "source": [
    "# Visualize masked attention\n",
    "plt.figure(figsize=(6, 6))\n",
    "plt.imshow(weights[0].detach().numpy(), cmap='viridis')\n",
    "plt.colorbar()\n",
    "plt.title('Masked Self-Attention Weights')\n",
    "plt.xlabel('Key positions')\n",
    "plt.ylabel('Query positions')\n",
    "plt.xticks(np.arange(sequence_length))\n",
    "plt.yticks(np.arange(sequence_length))\n",
    "plt.grid(False)\n",
    "plt.show()\n",
    "\n",
    "# Notice how each token (row) can only attend to itself and previous tokens (columns)"
   ]
  },
  {
   "cell_type": "markdown",
   "metadata": {},
   "source": [
    "## 7. Multi-Head Attention\n",
    "\n",
    "In practice, Transformer models use multi-head attention, which allows the model to jointly attend to information from different representation subspaces.\n",
    "\n",
    "Let's implement multi-head attention:"
   ]
  },
  {
   "cell_type": "code",
   "execution_count": 13,
   "metadata": {},
   "outputs": [],
   "source": [
    "class MultiHeadAttention(nn.Module):\n",
    "    def __init__(self, d_model, num_heads):\n",
    "        super().__init__()\n",
    "        assert d_model % num_heads == 0, \"d_model must be divisible by num_heads\"\n",
    "        \n",
    "        self.d_model = d_model\n",
    "        self.num_heads = num_heads\n",
    "        self.d_k = d_model // num_heads  # Dimension of each head\n",
    "        \n",
    "        # Linear projections\n",
    "        self.W_q = nn.Linear(d_model, d_model, bias=False)\n",
    "        self.W_k = nn.Linear(d_model, d_model, bias=False)\n",
    "        self.W_v = nn.Linear(d_model, d_model, bias=False)\n",
    "        self.W_o = nn.Linear(d_model, d_model, bias=False)\n",
    "        \n",
    "    def forward(self, x, mask=None):\n",
    "        batch_size, sequence_length, _ = x.shape\n",
    "        \n",
    "        # Linear projections and reshape for multi-head attention\n",
    "        Q = self.W_q(x).view(batch_size, sequence_length, self.num_heads, self.d_k).transpose(1, 2)\n",
    "        K = self.W_k(x).view(batch_size, sequence_length, self.num_heads, self.d_k).transpose(1, 2)\n",
    "        V = self.W_v(x).view(batch_size, sequence_length, self.num_heads, self.d_k).transpose(1, 2)\n",
    "        # Shape after transpose: [batch_size, num_heads, sequence_length, d_k]\n",
    "        \n",
    "        # Compute attention scores\n",
    "        scores = torch.matmul(Q, K.transpose(-2, -1)) / (self.d_k ** 0.5)\n",
    "        # scores shape: [batch_size, num_heads, sequence_length, sequence_length]\n",
    "        \n",
    "        # Apply mask (if provided)\n",
    "        if mask is not None:\n",
    "            # Add dimensions for num_heads\n",
    "            mask = mask.unsqueeze(1)\n",
    "            scores = scores.masked_fill(mask == 0, -1e9)\n",
    "        \n",
    "        # Apply softmax to get attention weights\n",
    "        weights = F.softmax(scores, dim=-1)\n",
    "        # weights shape: [batch_size, num_heads, sequence_length, sequence_length]\n",
    "        \n",
    "        # Compute weighted sum of values\n",
    "        output = torch.matmul(weights, V)\n",
    "        # output shape: [batch_size, num_heads, sequence_length, d_k]\n",
    "        \n",
    "        # Reshape and concatenate heads\n",
    "        output = output.transpose(1, 2).contiguous().view(batch_size, sequence_length, self.d_model)\n",
    "        # output shape: [batch_size, sequence_length, d_model]\n",
    "        \n",
    "        # Apply output projection\n",
    "        output = self.W_o(output)\n",
    "        \n",
    "        return output, weights"
   ]
  },
  {
   "cell_type": "code",
   "execution_count": 14,
   "metadata": {},
   "outputs": [
    {
     "name": "stdout",
     "output_type": "stream",
     "text": [
      "Input shape: torch.Size([2, 5, 64])\n",
      "Output shape: torch.Size([2, 5, 64])\n",
      "Attention weights shape: torch.Size([2, 8, 5, 5])\n"
     ]
    }
   ],
   "source": [
    "# Test multi-head attention\n",
    "batch_size = 2\n",
    "sequence_length = 5\n",
    "d_model = 64\n",
    "num_heads = 8\n",
    "\n",
    "# Create random input tensor\n",
    "x = torch.randn(batch_size, sequence_length, d_model)\n",
    "\n",
    "# Create causal mask\n",
    "mask = create_causal_mask(sequence_length).unsqueeze(0)  # Add batch dimension\n",
    "\n",
    "# Initialize multi-head attention module\n",
    "multi_head_attention = MultiHeadAttention(d_model, num_heads)\n",
    "\n",
    "# Forward pass with mask\n",
    "output, weights = multi_head_attention(x, mask)\n",
    "\n",
    "print(f\"Input shape: {x.shape}\")\n",
    "print(f\"Output shape: {output.shape}\")\n",
    "print(f\"Attention weights shape: {weights.shape}\")"
   ]
  },
  {
   "cell_type": "markdown",
   "metadata": {},
   "source": [
    "## 8. Building a Simple Language Model with Self-Attention\n",
    "\n",
    "Now, let's integrate our self-attention module into a simple language model. We'll build a minimal model that uses self-attention to predict the next token in a sequence."
   ]
  },
  {
   "cell_type": "code",
   "execution_count": 15,
   "metadata": {},
   "outputs": [],
   "source": [
    "class SimpleLanguageModel(nn.Module):\n",
    "    def __init__(self, vocab_size, d_model, num_heads, d_ff, max_seq_length):\n",
    "        super().__init__()\n",
    "        self.token_embedding = nn.Embedding(vocab_size, d_model)\n",
    "        self.position_embedding = nn.Embedding(max_seq_length, d_model)\n",
    "        \n",
    "        self.attention = MultiHeadAttention(d_model, num_heads)\n",
    "        \n",
    "        # Feed-forward network\n",
    "        self.feed_forward = nn.Sequential(\n",
    "            nn.Linear(d_model, d_ff),\n",
    "            nn.ReLU(),\n",
    "            nn.Linear(d_ff, d_model)\n",
    "        )\n",
    "        \n",
    "        # Layer normalization\n",
    "        self.norm1 = nn.LayerNorm(d_model)\n",
    "        self.norm2 = nn.LayerNorm(d_model)\n",
    "        \n",
    "        # Output projection\n",
    "        self.output_projection = nn.Linear(d_model, vocab_size)\n",
    "        \n",
    "    def forward(self, x):\n",
    "        # x shape: [batch_size, sequence_length]\n",
    "        batch_size, sequence_length = x.shape\n",
    "        \n",
    "        # Create position indices\n",
    "        positions = torch.arange(sequence_length, device=x.device).unsqueeze(0).expand(batch_size, -1)\n",
    "        \n",
    "        # Get token and position embeddings\n",
    "        token_emb = self.token_embedding(x)  # [batch_size, sequence_length, d_model]\n",
    "        pos_emb = self.position_embedding(positions)  # [batch_size, sequence_length, d_model]\n",
    "        \n",
    "        # Combine embeddings\n",
    "        x = token_emb + pos_emb\n",
    "        \n",
    "        # Create causal mask\n",
    "        mask = create_causal_mask(sequence_length).to(x.device)\n",
    "        \n",
    "        # Self-attention block with residual connection and layer normalization\n",
    "        attn_output, _ = self.attention(x, mask)\n",
    "        x = self.norm1(x + attn_output)  # Residual connection and normalization\n",
    "        \n",
    "        # Feed-forward block with residual connection and layer normalization\n",
    "        ff_output = self.feed_forward(x)\n",
    "        x = self.norm2(x + ff_output)  # Residual connection and normalization\n",
    "        \n",
    "        # Project to vocabulary size\n",
    "        logits = self.output_projection(x)  # [batch_size, sequence_length, vocab_size]\n",
    "        \n",
    "        return logits"
   ]
  },
  {
   "cell_type": "code",
   "execution_count": 16,
   "metadata": {},
   "outputs": [
    {
     "ename": "RuntimeError",
     "evalue": "The size of tensor a (10) must match the size of tensor b (4) at non-singleton dimension 1",
     "output_type": "error",
     "traceback": [
      "\u001b[31m---------------------------------------------------------------------------\u001b[39m",
      "\u001b[31mRuntimeError\u001b[39m                              Traceback (most recent call last)",
      "\u001b[36mCell\u001b[39m\u001b[36m \u001b[39m\u001b[32mIn[16]\u001b[39m\u001b[32m, line 17\u001b[39m\n\u001b[32m     14\u001b[39m x = torch.randint(\u001b[32m0\u001b[39m, vocab_size, (batch_size, sequence_length))\n\u001b[32m     16\u001b[39m \u001b[38;5;66;03m# Forward pass\u001b[39;00m\n\u001b[32m---> \u001b[39m\u001b[32m17\u001b[39m logits = \u001b[43mmodel\u001b[49m\u001b[43m(\u001b[49m\u001b[43mx\u001b[49m\u001b[43m)\u001b[49m\n\u001b[32m     18\u001b[39m \u001b[38;5;28mprint\u001b[39m(\u001b[33mf\u001b[39m\u001b[33m\"\u001b[39m\u001b[33mInput shape: \u001b[39m\u001b[38;5;132;01m{\u001b[39;00mx.shape\u001b[38;5;132;01m}\u001b[39;00m\u001b[33m\"\u001b[39m)\n\u001b[32m     19\u001b[39m \u001b[38;5;28mprint\u001b[39m(\u001b[33mf\u001b[39m\u001b[33m\"\u001b[39m\u001b[33mOutput logits shape: \u001b[39m\u001b[38;5;132;01m{\u001b[39;00mlogits.shape\u001b[38;5;132;01m}\u001b[39;00m\u001b[33m\"\u001b[39m)\n",
      "\u001b[36mFile \u001b[39m\u001b[32m~/Desktop/NVIDIA teaching kits/aisg_github_course/.venv/lib/python3.12/site-packages/torch/nn/modules/module.py:1739\u001b[39m, in \u001b[36mModule._wrapped_call_impl\u001b[39m\u001b[34m(self, *args, **kwargs)\u001b[39m\n\u001b[32m   1737\u001b[39m     \u001b[38;5;28;01mreturn\u001b[39;00m \u001b[38;5;28mself\u001b[39m._compiled_call_impl(*args, **kwargs)  \u001b[38;5;66;03m# type: ignore[misc]\u001b[39;00m\n\u001b[32m   1738\u001b[39m \u001b[38;5;28;01melse\u001b[39;00m:\n\u001b[32m-> \u001b[39m\u001b[32m1739\u001b[39m     \u001b[38;5;28;01mreturn\u001b[39;00m \u001b[38;5;28;43mself\u001b[39;49m\u001b[43m.\u001b[49m\u001b[43m_call_impl\u001b[49m\u001b[43m(\u001b[49m\u001b[43m*\u001b[49m\u001b[43margs\u001b[49m\u001b[43m,\u001b[49m\u001b[43m \u001b[49m\u001b[43m*\u001b[49m\u001b[43m*\u001b[49m\u001b[43mkwargs\u001b[49m\u001b[43m)\u001b[49m\n",
      "\u001b[36mFile \u001b[39m\u001b[32m~/Desktop/NVIDIA teaching kits/aisg_github_course/.venv/lib/python3.12/site-packages/torch/nn/modules/module.py:1750\u001b[39m, in \u001b[36mModule._call_impl\u001b[39m\u001b[34m(self, *args, **kwargs)\u001b[39m\n\u001b[32m   1745\u001b[39m \u001b[38;5;66;03m# If we don't have any hooks, we want to skip the rest of the logic in\u001b[39;00m\n\u001b[32m   1746\u001b[39m \u001b[38;5;66;03m# this function, and just call forward.\u001b[39;00m\n\u001b[32m   1747\u001b[39m \u001b[38;5;28;01mif\u001b[39;00m \u001b[38;5;129;01mnot\u001b[39;00m (\u001b[38;5;28mself\u001b[39m._backward_hooks \u001b[38;5;129;01mor\u001b[39;00m \u001b[38;5;28mself\u001b[39m._backward_pre_hooks \u001b[38;5;129;01mor\u001b[39;00m \u001b[38;5;28mself\u001b[39m._forward_hooks \u001b[38;5;129;01mor\u001b[39;00m \u001b[38;5;28mself\u001b[39m._forward_pre_hooks\n\u001b[32m   1748\u001b[39m         \u001b[38;5;129;01mor\u001b[39;00m _global_backward_pre_hooks \u001b[38;5;129;01mor\u001b[39;00m _global_backward_hooks\n\u001b[32m   1749\u001b[39m         \u001b[38;5;129;01mor\u001b[39;00m _global_forward_hooks \u001b[38;5;129;01mor\u001b[39;00m _global_forward_pre_hooks):\n\u001b[32m-> \u001b[39m\u001b[32m1750\u001b[39m     \u001b[38;5;28;01mreturn\u001b[39;00m \u001b[43mforward_call\u001b[49m\u001b[43m(\u001b[49m\u001b[43m*\u001b[49m\u001b[43margs\u001b[49m\u001b[43m,\u001b[49m\u001b[43m \u001b[49m\u001b[43m*\u001b[49m\u001b[43m*\u001b[49m\u001b[43mkwargs\u001b[49m\u001b[43m)\u001b[49m\n\u001b[32m   1752\u001b[39m result = \u001b[38;5;28;01mNone\u001b[39;00m\n\u001b[32m   1753\u001b[39m called_always_called_hooks = \u001b[38;5;28mset\u001b[39m()\n",
      "\u001b[36mCell\u001b[39m\u001b[36m \u001b[39m\u001b[32mIn[15]\u001b[39m\u001b[32m, line 41\u001b[39m, in \u001b[36mSimpleLanguageModel.forward\u001b[39m\u001b[34m(self, x)\u001b[39m\n\u001b[32m     38\u001b[39m mask = create_causal_mask(sequence_length).to(x.device)\n\u001b[32m     40\u001b[39m \u001b[38;5;66;03m# Self-attention block with residual connection and layer normalization\u001b[39;00m\n\u001b[32m---> \u001b[39m\u001b[32m41\u001b[39m attn_output, _ = \u001b[38;5;28;43mself\u001b[39;49m\u001b[43m.\u001b[49m\u001b[43mattention\u001b[49m\u001b[43m(\u001b[49m\u001b[43mx\u001b[49m\u001b[43m,\u001b[49m\u001b[43m \u001b[49m\u001b[43mmask\u001b[49m\u001b[43m)\u001b[49m\n\u001b[32m     42\u001b[39m x = \u001b[38;5;28mself\u001b[39m.norm1(x + attn_output)  \u001b[38;5;66;03m# Residual connection and normalization\u001b[39;00m\n\u001b[32m     44\u001b[39m \u001b[38;5;66;03m# Feed-forward block with residual connection and layer normalization\u001b[39;00m\n",
      "\u001b[36mFile \u001b[39m\u001b[32m~/Desktop/NVIDIA teaching kits/aisg_github_course/.venv/lib/python3.12/site-packages/torch/nn/modules/module.py:1739\u001b[39m, in \u001b[36mModule._wrapped_call_impl\u001b[39m\u001b[34m(self, *args, **kwargs)\u001b[39m\n\u001b[32m   1737\u001b[39m     \u001b[38;5;28;01mreturn\u001b[39;00m \u001b[38;5;28mself\u001b[39m._compiled_call_impl(*args, **kwargs)  \u001b[38;5;66;03m# type: ignore[misc]\u001b[39;00m\n\u001b[32m   1738\u001b[39m \u001b[38;5;28;01melse\u001b[39;00m:\n\u001b[32m-> \u001b[39m\u001b[32m1739\u001b[39m     \u001b[38;5;28;01mreturn\u001b[39;00m \u001b[38;5;28;43mself\u001b[39;49m\u001b[43m.\u001b[49m\u001b[43m_call_impl\u001b[49m\u001b[43m(\u001b[49m\u001b[43m*\u001b[49m\u001b[43margs\u001b[49m\u001b[43m,\u001b[49m\u001b[43m \u001b[49m\u001b[43m*\u001b[49m\u001b[43m*\u001b[49m\u001b[43mkwargs\u001b[49m\u001b[43m)\u001b[49m\n",
      "\u001b[36mFile \u001b[39m\u001b[32m~/Desktop/NVIDIA teaching kits/aisg_github_course/.venv/lib/python3.12/site-packages/torch/nn/modules/module.py:1750\u001b[39m, in \u001b[36mModule._call_impl\u001b[39m\u001b[34m(self, *args, **kwargs)\u001b[39m\n\u001b[32m   1745\u001b[39m \u001b[38;5;66;03m# If we don't have any hooks, we want to skip the rest of the logic in\u001b[39;00m\n\u001b[32m   1746\u001b[39m \u001b[38;5;66;03m# this function, and just call forward.\u001b[39;00m\n\u001b[32m   1747\u001b[39m \u001b[38;5;28;01mif\u001b[39;00m \u001b[38;5;129;01mnot\u001b[39;00m (\u001b[38;5;28mself\u001b[39m._backward_hooks \u001b[38;5;129;01mor\u001b[39;00m \u001b[38;5;28mself\u001b[39m._backward_pre_hooks \u001b[38;5;129;01mor\u001b[39;00m \u001b[38;5;28mself\u001b[39m._forward_hooks \u001b[38;5;129;01mor\u001b[39;00m \u001b[38;5;28mself\u001b[39m._forward_pre_hooks\n\u001b[32m   1748\u001b[39m         \u001b[38;5;129;01mor\u001b[39;00m _global_backward_pre_hooks \u001b[38;5;129;01mor\u001b[39;00m _global_backward_hooks\n\u001b[32m   1749\u001b[39m         \u001b[38;5;129;01mor\u001b[39;00m _global_forward_hooks \u001b[38;5;129;01mor\u001b[39;00m _global_forward_pre_hooks):\n\u001b[32m-> \u001b[39m\u001b[32m1750\u001b[39m     \u001b[38;5;28;01mreturn\u001b[39;00m \u001b[43mforward_call\u001b[49m\u001b[43m(\u001b[49m\u001b[43m*\u001b[49m\u001b[43margs\u001b[49m\u001b[43m,\u001b[49m\u001b[43m \u001b[49m\u001b[43m*\u001b[49m\u001b[43m*\u001b[49m\u001b[43mkwargs\u001b[49m\u001b[43m)\u001b[49m\n\u001b[32m   1752\u001b[39m result = \u001b[38;5;28;01mNone\u001b[39;00m\n\u001b[32m   1753\u001b[39m called_always_called_hooks = \u001b[38;5;28mset\u001b[39m()\n",
      "\u001b[36mCell\u001b[39m\u001b[36m \u001b[39m\u001b[32mIn[13]\u001b[39m\u001b[32m, line 33\u001b[39m, in \u001b[36mMultiHeadAttention.forward\u001b[39m\u001b[34m(self, x, mask)\u001b[39m\n\u001b[32m     30\u001b[39m \u001b[38;5;28;01mif\u001b[39;00m mask \u001b[38;5;129;01mis\u001b[39;00m \u001b[38;5;129;01mnot\u001b[39;00m \u001b[38;5;28;01mNone\u001b[39;00m:\n\u001b[32m     31\u001b[39m     \u001b[38;5;66;03m# Add dimensions for num_heads\u001b[39;00m\n\u001b[32m     32\u001b[39m     mask = mask.unsqueeze(\u001b[32m1\u001b[39m)\n\u001b[32m---> \u001b[39m\u001b[32m33\u001b[39m     scores = \u001b[43mscores\u001b[49m\u001b[43m.\u001b[49m\u001b[43mmasked_fill\u001b[49m\u001b[43m(\u001b[49m\u001b[43mmask\u001b[49m\u001b[43m \u001b[49m\u001b[43m==\u001b[49m\u001b[43m \u001b[49m\u001b[32;43m0\u001b[39;49m\u001b[43m,\u001b[49m\u001b[43m \u001b[49m\u001b[43m-\u001b[49m\u001b[32;43m1e9\u001b[39;49m\u001b[43m)\u001b[49m\n\u001b[32m     35\u001b[39m \u001b[38;5;66;03m# Apply softmax to get attention weights\u001b[39;00m\n\u001b[32m     36\u001b[39m weights = F.softmax(scores, dim=-\u001b[32m1\u001b[39m)\n",
      "\u001b[31mRuntimeError\u001b[39m: The size of tensor a (10) must match the size of tensor b (4) at non-singleton dimension 1"
     ]
    }
   ],
   "source": [
    "# Example usage\n",
    "vocab_size = 1000\n",
    "d_model = 64\n",
    "num_heads = 4\n",
    "d_ff = 256\n",
    "max_seq_length = 128\n",
    "\n",
    "# Initialize model\n",
    "model = SimpleLanguageModel(vocab_size, d_model, num_heads, d_ff, max_seq_length)\n",
    "\n",
    "# Create a random batch of token sequences\n",
    "batch_size = 3\n",
    "sequence_length = 10\n",
    "x = torch.randint(0, vocab_size, (batch_size, sequence_length))\n",
    "\n",
    "# Forward pass\n",
    "logits = model(x)\n",
    "print(f\"Input shape: {x.shape}\")\n",
    "print(f\"Output logits shape: {logits.shape}\")"
   ]
  },
  {
   "cell_type": "markdown",
   "metadata": {},
   "source": [
    "## 9. The Attention Is All You Need Connection\n",
    "\n",
    "Our implementation follows the core principles introduced in the landmark paper \"Attention Is All You Need\" by Vaswani et al. (2017), which introduced the Transformer architecture.\n",
    "\n",
    "The key components of the Transformer that we've implemented are:\n",
    "\n",
    "1. **Self-Attention**: Allows tokens to directly interact with each other\n",
    "2. **Multi-Head Attention**: Enables the model to attend to different information subspaces\n",
    "3. **Masked Self-Attention**: Ensures that prediction for a token only depends on previous tokens\n",
    "4. **Positional Encoding**: Provides sequence order information (since self-attention has no inherent notion of position)\n",
    "5. **Feed-Forward Networks**: Process the attended information\n",
    "6. **Residual Connections**: Help with gradient flow during training\n",
    "7. **Layer Normalization**: Stabilizes the model's hidden state\n",
    "\n",
    "A full Transformer would typically have multiple identical layers stacked on top of each other, but our simplified model captures the essence of how attention-based language models work."
   ]
  },
  {
   "cell_type": "markdown",
   "metadata": {},
   "source": [
    "## 10. Next Steps: Training on Real Data\n",
    "\n",
    "To complete this implementation, we would need to:\n",
    "\n",
    "1. Prepare a dataset (like Shakespeare used in Karpathy's example)\n",
    "2. Create a training loop\n",
    "3. Implement loss calculation and optimization\n",
    "4. Add text generation functionality\n",
    "\n",
    "The full implementation can be found in [Karpathy's repository](https://github.com/karpathy/ng-video-lecture).\n",
    "\n",
    "In the next Week 2 notebooks, we will explore additional components of the Transformer architecture and see how they come together to form the foundation of modern Large Language Models."
   ]
  },
  {
   "cell_type": "markdown",
   "metadata": {},
   "source": [
    "## Conclusion\n",
    "\n",
    "In this notebook, we've explored the fundamental concept of self-attention, which is the core innovation behind Transformer models. We've:\n",
    "\n",
    "1. Understood the mathematical intuition behind self-attention\n",
    "2. Implemented single-head and multi-head attention mechanisms\n",
    "3. Built a simple language model using self-attention\n",
    "4. Connected these concepts to the broader Transformer architecture\n",
    "\n",
    "This forms the foundation for understanding how modern Large Language Models work and why they've been so successful at a wide range of NLP tasks."
   ]
  },
  {
   "cell_type": "code",
   "execution_count": null,
   "metadata": {},
   "outputs": [],
   "source": []
  }
 ],
 "metadata": {
  "kernelspec": {
   "display_name": ".venv",
   "language": "python",
   "name": "python3"
  },
  "language_info": {
   "codemirror_mode": {
    "name": "ipython",
    "version": 3
   },
   "file_extension": ".py",
   "mimetype": "text/x-python",
   "name": "python",
   "nbconvert_exporter": "python",
   "pygments_lexer": "ipython3",
   "version": "3.12.8"
  }
 },
 "nbformat": 4,
 "nbformat_minor": 4
}
