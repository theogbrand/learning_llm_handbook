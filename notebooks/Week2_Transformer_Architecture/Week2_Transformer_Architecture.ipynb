{
 "cells": [
  {
   "cell_type": "markdown",
   "metadata": {},
   "source": [
    "# Week 2: Transformer Architecture Deep Dive"
   ]
  },
  {
   "cell_type": "markdown",
   "metadata": {},
   "source": [
    "## Notebook 2.1: Attention Mechanism\n",
    "- Code attention mechanism from scratch (Q, K, V matrices)\n",
    "- Implement scaled dot-product attention with masking"
   ]
  },
  {
   "cell_type": "markdown",
   "metadata": {},
   "source": [
    "## Notebook 2.2: Simple Transformer Implementation\n",
    "- Build a mini transformer model in PyTorch\n",
    "- Train the model on a small text dataset\n",
    "- Implement n-gram character-level language modeling\n",
    "- Trace backpropagation steps manually and verify against PyTorch autograd"
   ]
  },
  {
   "cell_type": "markdown",
   "metadata": {},
   "source": [
    "## Notebook 2.3: Backpropagation Implementation\n",
    "- Build a tiny autograd engine\n",
    "- Implement and train a simple neural network using micrograd"
   ]
  }
 ],
 "metadata": {
  "kernelspec": {
   "display_name": "Python 3",
   "language": "python",
   "name": "python3"
  },
  "language_info": {
   "codemirror_mode": {
    "name": "ipython",
    "version": 3
   },
   "file_extension": ".py",
   "mimetype": "text/x-python",
   "name": "python",
   "nbconvert_exporter": "python",
   "pygments_lexer": "ipython3",
   "version": "3.8.10"
  }
 },
 "nbformat": 4,
 "nbformat_minor": 4
}
