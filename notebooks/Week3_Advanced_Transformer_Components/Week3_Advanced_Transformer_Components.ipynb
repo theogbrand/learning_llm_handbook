{
 "cells": [
  {
   "cell_type": "markdown",
   "metadata": {},
   "source": [
    "# Week 3: Advanced Transformer Components"
   ]
  },
  {
   "cell_type": "markdown",
   "metadata": {},
   "source": [
    "## Notebook 3.1: Transformer Block Implementation\n",
    "- Code multi-head attention from scratch\n",
    "- Implement positional embeddings and encodings\n",
    "- Build feed-forward networks with different activation functions"
   ]
  },
  {
   "cell_type": "markdown",
   "metadata": {},
   "source": [
    "## Notebook 3.2: KV-Cache Optimization\n",
    "- Implement and benchmark KV-cache for efficient inference\n",
    "- Visualize memory usage with and without KV-cache"
   ]
  },
  {
   "cell_type": "markdown",
   "metadata": {},
   "source": [
    "## Notebook 3.3: Architecture Comparisons\n",
    "- Implement simplified versions of encoder-only (BERT-like) models\n",
    "- Compare performance of decoder-only (GPT-like) architectures\n",
    "- Experiment with encoder-decoder (T5-like) designs on translation tasks (E.g. NLLB)"
   ]
  }
 ],
 "metadata": {
  "kernelspec": {
   "display_name": "Python 3",
   "language": "python",
   "name": "python3"
  },
  "language_info": {
   "codemirror_mode": {
    "name": "ipython",
    "version": 3
   },
   "file_extension": ".py",
   "mimetype": "text/x-python",
   "name": "python",
   "nbconvert_exporter": "python",
   "pygments_lexer": "ipython3",
   "version": "3.8.10"
  }
 },
 "nbformat": 4,
 "nbformat_minor": 4
}
