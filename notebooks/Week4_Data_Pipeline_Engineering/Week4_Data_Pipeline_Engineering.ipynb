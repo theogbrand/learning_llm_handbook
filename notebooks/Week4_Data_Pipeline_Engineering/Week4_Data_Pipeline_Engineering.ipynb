{
 "cells": [
  {
   "cell_type": "markdown",
   "metadata": {},
   "source": [
    "# Week 4: Data Pipeline Engineering\n",
    "Resource Required: 8xA100 GPU to train on FineWeb (Karpathy example)\n",
    "\n",
    "https://learning.oreilly.com/library/view/ai-engineering/9781098166298/ch08.html#ch08_deduplicate_data_1730130932021834\n",
    "\n",
    "Cosmopedia, Magpie, Google Translate API, NLLB, High quality (educational) and diversity "
   ]
  },
  {
   "cell_type": "markdown",
   "metadata": {},
   "source": [
    "## Notebook 4.1: Data Pipeline Development and Processing\n",
    "- Build data preprocessing pipelines for text datasets (OCR - give already OCR-ed data)\n",
    "- Implement efficient data loading with PyTorch DataLoader\n",
    "- Create data cleaning and normalization functions (Down/Upsampling, REGEX)"
   ]
  },
  {
   "cell_type": "markdown",
   "metadata": {},
   "source": [
    "## Notebook 4.2: Data Curation\n",
    "Inspect, Dedup, Filter, Format\n",
    "- Experiment with FineWeb dataset samples (Karpathy)\n",
    "- Set up distributed training environments\n",
    "- Implement mixed precision training\n",
    "- Experiment with gradient accumulation and large batch training"
   ]
  },
  {
   "cell_type": "markdown",
   "metadata": {},
   "source": [
    "## Notebook 4.3: Data Augmentation and Synthesis\n",
    "- Implement masked language modeling objectives\n",
    "- Build causal language modeling training loop"
   ]
  }
 ],
 "metadata": {
  "kernelspec": {
   "display_name": "Python 3",
   "language": "python",
   "name": "python3"
  },
  "language_info": {
   "codemirror_mode": {
    "name": "ipython",
    "version": 3
   },
   "file_extension": ".py",
   "mimetype": "text/x-python",
   "name": "python",
   "nbconvert_exporter": "python",
   "pygments_lexer": "ipython3",
   "version": "3.8.10"
  }
 },
 "nbformat": 4,
 "nbformat_minor": 4
}
