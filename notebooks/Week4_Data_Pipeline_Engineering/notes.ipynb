{
 "cells": [
  {
   "cell_type": "markdown",
   "metadata": {},
   "source": [
    "# Week 4: Data Pipeline Engineering\n",
    "Resource Required: 8xA100 GPU to train on FineWeb (Karpathy example)\n",
    "\n",
    "https://learning.oreilly.com/library/view/ai-engineering/9781098166298/ch08.html#ch08_deduplicate_data_1730130932021834\n",
    "\n",
    "Cosmopedia (https://github.com/huggingface/cosmopedia/blob/main/evaluation/lighteval_tasks.py)\n",
    "\n",
    "Eval section: To be completed once have GPUs\n",
    "\n",
    "Cosmopedia, Google Translate API (higher quality, more expensive), NLLB (reasonable quallity, cheaper if already have GPUs for inference)**"
   ]
  }
 ],
 "metadata": {
  "kernelspec": {
   "display_name": "Python 3",
   "language": "python",
   "name": "python3"
  },
  "language_info": {
   "codemirror_mode": {
    "name": "ipython",
    "version": 3
   },
   "file_extension": ".py",
   "mimetype": "text/x-python",
   "name": "python",
   "nbconvert_exporter": "python",
   "pygments_lexer": "ipython3",
   "version": "3.8.10"
  }
 },
 "nbformat": 4,
 "nbformat_minor": 4
}
