{
 "cells": [
  {
   "cell_type": "markdown",
   "metadata": {},
   "source": [
    "# Week 7: Evaluation\n",
    "Resource Required: Google Colab (T4) GPU - free\n",
    "\n",
    "1. Libraries to running evals, introduce stochasticity. LLM-Arena and Elo Scores. Introduce Eval Dimensions (knowledge, reasoning, chat)\n",
    "2. Explore types of evals Reference based v.s. Reference Free; automatic v.s. LLM-as-Judge v.s. Human Evaluation\n",
    "3. Automate creation of own evaluation, structured outputs"
   ]
  },
  {
   "cell_type": "markdown",
   "metadata": {},
   "source": [
    "## Notebook 7.1: Benchmark Development\n",
    "- Create custom evaluation benchmarks for specific domains\n",
    "- Implement automated evaluation for math and coding tasks"
   ]
  },
  {
   "cell_type": "markdown",
   "metadata": {},
   "source": [
    "## Notebook 7.2: Evaluation Methods\n",
    "- Compare reference-free vs. reference-based evaluation\n",
    "- Implement human-in-the-loop evaluation interfaces\n",
    "- Create visualizations for model performance analysis"
   ]
  },
  {
   "cell_type": "markdown",
   "metadata": {},
   "source": [
    "## Notebook 7.3: Lite-Eval Implementation\n",
    "- Build lightweight evaluation pipelines for rapid testing\n",
    "- Analyze correlation between lite-eval and comprehensive benchmarks"
   ]
  }
 ],
 "metadata": {
  "kernelspec": {
   "display_name": "Python 3",
   "language": "python",
   "name": "python3"
  },
  "language_info": {
   "codemirror_mode": {
    "name": "ipython",
    "version": 3
   },
   "file_extension": ".py",
   "mimetype": "text/x-python",
   "name": "python",
   "nbconvert_exporter": "python",
   "pygments_lexer": "ipython3",
   "version": "3.8.10"
  }
 },
 "nbformat": 4,
 "nbformat_minor": 4
}
