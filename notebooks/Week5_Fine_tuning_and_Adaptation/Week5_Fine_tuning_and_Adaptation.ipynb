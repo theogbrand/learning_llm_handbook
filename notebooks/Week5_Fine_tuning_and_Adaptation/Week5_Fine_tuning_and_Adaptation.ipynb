{
 "cells": [
  {
   "cell_type": "markdown",
   "metadata": {},
   "source": [
    "# Week 5: Fine-tuning and Adaptation Methods\n",
    "Resource Required: Google Colab (T4) GPU - free"
   ]
  },
  {
   "cell_type": "markdown",
   "metadata": {},
   "source": [
    "## Notebook 5.1: SFT v.s. Preference FT\n",
    "- Implement full fine-tuning on domain-specific datasets\n",
    "- Compare performance before and after fine-tuning"
   ]
  },
  {
   "cell_type": "markdown",
   "metadata": {},
   "source": [
    "## Notebook 5.2: Full Fine-tuning v.s. PEFT\n",
    "- Implement LoRA and QLoRA from scratch\n",
    "- Build adapter modules and prompt tuning mechanisms\n",
    "- Compare parameter counts and performance across methods"
   ]
  },
  {
   "cell_type": "markdown",
   "metadata": {},
   "source": [
    "## Notebook 5.3: FT for Classification v.s. FT for following Instructions\n",
    "- Create instruction tuning datasets and training loops\n",
    "- Implement simplified RLHF pipeline components"
   ]
  }
 ],
 "metadata": {
  "kernelspec": {
   "display_name": "Python 3",
   "language": "python",
   "name": "python3"
  },
  "language_info": {
   "codemirror_mode": {
    "name": "ipython",
    "version": 3
   },
   "file_extension": ".py",
   "mimetype": "text/x-python",
   "name": "python",
   "nbconvert_exporter": "python",
   "pygments_lexer": "ipython3",
   "version": "3.8.10"
  }
 },
 "nbformat": 4,
 "nbformat_minor": 4
}
