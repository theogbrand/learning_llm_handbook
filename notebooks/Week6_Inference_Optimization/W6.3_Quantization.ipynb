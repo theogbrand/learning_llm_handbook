{
 "cells": [
  {
   "cell_type": "markdown",
   "metadata": {},
   "source": [
    "# W6.3: Model Quantization for Training and Inference\n",
    "\n",
    "In this notebook, we'll explore model quantization techniques for both training and inference. The distinction between training and inference quantization is that in training, we quantize the model weights and activations, while in inference, we quantize the model weights. Quantization reduces the precision of model weights, activations, and gradients, enabling:\n",
    "\n",
    "- Smaller memory footprints\n",
    "- Faster inference and training\n",
    "- Ability to fit large models on available hardware\n",
    "\n",
    "We'll cover:\n",
    "1. Quantization fundamentals\n",
    "2. Training with quantization using bitsandbytes\n",
    "3. Inference quantization using GGUF and llama.cpp"
   ]
  },
  {
   "cell_type": "markdown",
   "metadata": {},
   "source": [
    "### The Mathematics of Quantization\n",
    "\n",
    "Before diving deeper into quantization techniques, let's understand the mathematical operations that happen during the quantization process with a concrete example.\n",
    "\n",
    "Quantization involves mapping a continuous set of values (like 32-bit floating point weights) to a discrete set of values (like 8-bit integers). The two most common approaches are:\n",
    "\n",
    "1. **Absmax Quantization**\n",
    "2. **Zero-point Quantization**\n",
    "\n",
    "Let's see how they work mathematically:"
   ]
  },
  {
   "cell_type": "code",
   "execution_count": 7,
   "metadata": {},
   "outputs": [],
   "source": [
    "import torch\n",
    "import numpy as np\n",
    "import matplotlib.pyplot as plt\n",
    "\n",
    "# Function to perform absmax quantization\n",
    "def absmax_quantize(X, bits=8):\n",
    "    \"\"\"\n",
    "    Quantize tensor using absolute maximum method\n",
    "    \n",
    "    Parameters:\n",
    "    - X: Input tensor\n",
    "    - bits: Number of bits for quantization (default: 8)\n",
    "    \n",
    "    Returns:\n",
    "    - Quantized tensor (in int format)\n",
    "    - Dequantized tensor (reconstructed to original format)\n",
    "    - Scale factor\n",
    "    \"\"\"\n",
    "    # Calculate max range for target bits\n",
    "    max_val = 2**(bits-1) - 1  # For 8 bits: 127\n",
    "    \n",
    "    # Calculate scale (maps max absolute value to max range)\n",
    "    abs_max = torch.max(torch.abs(X)).item()\n",
    "    scale = max_val / abs_max\n",
    "    \n",
    "    # Quantize: scale and round\n",
    "    X_quant = torch.round(X * scale)\n",
    "    \n",
    "    # Clip values to ensure they fit in the target range\n",
    "    X_quant = torch.clamp(X_quant, -max_val, max_val)\n",
    "    \n",
    "    # Dequantize: divide by scale to return to original range\n",
    "    X_dequant = X_quant / scale\n",
    "    \n",
    "    return X_quant.to(torch.int8), X_dequant, scale\n",
    "\n",
    "# Function to perform zero-point quantization\n",
    "def zeropoint_quantize(X, bits=8):\n",
    "    \"\"\"\n",
    "    Quantize tensor using zero-point method\n",
    "    \n",
    "    Parameters:\n",
    "    - X: Input tensor\n",
    "    - bits: Number of bits for quantization (default: 8)\n",
    "    \n",
    "    Returns:\n",
    "    - Quantized tensor (in int format)\n",
    "    - Dequantized tensor (reconstructed to original format)\n",
    "    - Scale factor\n",
    "    - Zero point\n",
    "    \"\"\"\n",
    "    # Calculate range for target bits\n",
    "    max_val = 2**(bits-1) - 1  # For 8 bits: 127\n",
    "    \n",
    "    # Get min and max values from tensor\n",
    "    x_min = torch.min(X).item()\n",
    "    x_max = torch.max(X).item()\n",
    "    \n",
    "    # Calculate value range (denominator)\n",
    "    x_range = x_max - x_min\n",
    "    x_range = 1.0 if x_range == 0 else x_range\n",
    "    \n",
    "     # Calculate scale\n",
    "    scale = (2*max_val) / x_range\n",
    "    \n",
    "    # Calculate zero point (maps x_min to -max_val)\n",
    "    zero_point = torch.round(torch.tensor(-scale * x_min - max_val))\n",
    "    \n",
    "    # Quantize: scale, add zero point, and round\n",
    "    X_quant = torch.round(X * scale + zero_point)\n",
    "    \n",
    "    # Clip values to ensure they fit in the target range\n",
    "    X_quant = torch.clamp(X_quant, -max_val, max_val)\n",
    "    \n",
    "    # Dequantize: subtract zero point and divide by scale\n",
    "    X_dequant = (X_quant - zero_point) / scale\n",
    "    \n",
    "    return X_quant.to(torch.int8), X_dequant, scale, zero_point"
   ]
  },
  {
   "cell_type": "code",
   "execution_count": 8,
   "metadata": {},
   "outputs": [
    {
     "name": "stdout",
     "output_type": "stream",
     "text": [
      "Original weights (FP32):\n",
      "tensor([[-0.8543, -0.4328,  0.2731,  0.9126],\n",
      "        [ 0.1892,  0.7253, -0.6105, -0.3217],\n",
      "        [-0.2944,  0.5312,  0.0891, -0.1734]])\n",
      "Memory usage: 48 bytes\n",
      "\n",
      "Absmax quantized weights (INT8):\n",
      "tensor([[-119,  -60,   38,  127],\n",
      "        [  26,  101,  -85,  -45],\n",
      "        [ -41,   74,   12,  -24]], dtype=torch.int8)\n",
      "Memory usage: 12 bytes\n",
      "Scale factor: 139.162834\n",
      "\n",
      "Absmax dequantized weights (approximated back to float):\n",
      "tensor([[-0.8551, -0.4311,  0.2731,  0.9126],\n",
      "        [ 0.1868,  0.7258, -0.6108, -0.3234],\n",
      "        [-0.2946,  0.5318,  0.0862, -0.1725]])\n",
      "\n",
      "Absmax quantization absolute error:\n",
      "tensor([[8.1331e-04, 1.6504e-03, 3.8594e-05, 5.9605e-08],\n",
      "        [2.3685e-03, 4.6843e-04, 2.9528e-04, 1.6622e-03],\n",
      "        [2.1887e-04, 5.5116e-04, 2.8701e-03, 9.4017e-04]])\n",
      "Mean absolute error: 0.000990\n",
      "\n",
      "Zero-point quantized weights (INT8):\n",
      "tensor([[-127,  -66,   35,  127],\n",
      "        [  23,  100,  -92,  -50],\n",
      "        [ -46,   72,    9,  -29]], dtype=torch.int8)\n",
      "Memory usage: 12 bytes\n",
      "Scale factor: 143.754598\n",
      "Zero point: -4.00\n",
      "\n",
      "Zero-point dequantized weights (approximated back to float):\n",
      "tensor([[-0.8556, -0.4313,  0.2713,  0.9113],\n",
      "        [ 0.1878,  0.7235, -0.6122, -0.3200],\n",
      "        [-0.2922,  0.5287,  0.0904, -0.1739]])\n",
      "\n",
      "Zero-point quantization absolute error:\n",
      "tensor([[0.0013, 0.0015, 0.0018, 0.0013],\n",
      "        [0.0014, 0.0018, 0.0017, 0.0017],\n",
      "        [0.0022, 0.0025, 0.0013, 0.0005]])\n",
      "Mean absolute error: 0.001596\n"
     ]
    }
   ],
   "source": [
    "# Let's demonstrate quantization with a concrete example\n",
    "# Create a small tensor with some weights (simulating a model's weight matrix)\n",
    "weights = torch.tensor([\n",
    "    [-0.8543, -0.4328,  0.2731,  0.9126],\n",
    "    [ 0.1892,  0.7253, -0.6105, -0.3217],\n",
    "    [-0.2944,  0.5312,  0.0891, -0.1734]\n",
    "], dtype=torch.float32)\n",
    "\n",
    "print(\"Original weights (FP32):\")\n",
    "print(weights)\n",
    "print(f\"Memory usage: {weights.nelement() * weights.element_size()} bytes\")\n",
    "\n",
    "# Absmax quantization\n",
    "weights_absmax_quant, weights_absmax_dequant, scale_absmax = absmax_quantize(weights)\n",
    "\n",
    "print(\"\\nAbsmax quantized weights (INT8):\")\n",
    "print(weights_absmax_quant)\n",
    "print(f\"Memory usage: {weights_absmax_quant.nelement() * weights_absmax_quant.element_size()} bytes\")\n",
    "print(f\"Scale factor: {scale_absmax:.6f}\")\n",
    "\n",
    "print(\"\\nAbsmax dequantized weights (approximated back to float):\")\n",
    "print(weights_absmax_dequant)\n",
    "\n",
    "# Calculate quantization error for absmax\n",
    "absmax_error = torch.abs(weights - weights_absmax_dequant)\n",
    "print(\"\\nAbsmax quantization absolute error:\")\n",
    "print(absmax_error)\n",
    "print(f\"Mean absolute error: {torch.mean(absmax_error):.6f}\")\n",
    "\n",
    "# Zero-point quantization\n",
    "weights_zp_quant, weights_zp_dequant, scale_zp, zero_point = zeropoint_quantize(weights)\n",
    "\n",
    "print(\"\\nZero-point quantized weights (INT8):\")\n",
    "print(weights_zp_quant)\n",
    "print(f\"Memory usage: {weights_zp_quant.nelement() * weights_zp_quant.element_size()} bytes\")\n",
    "print(f\"Scale factor: {scale_zp:.6f}\")\n",
    "print(f\"Zero point: {zero_point:.2f}\")\n",
    "\n",
    "print(\"\\nZero-point dequantized weights (approximated back to float):\")\n",
    "print(weights_zp_dequant)\n",
    "\n",
    "# Calculate quantization error for zero-point\n",
    "zp_error = torch.abs(weights - weights_zp_dequant)\n",
    "print(\"\\nZero-point quantization absolute error:\")\n",
    "print(zp_error)\n",
    "print(f\"Mean absolute error: {torch.mean(zp_error):.6f}\")"
   ]
  },
  {
   "cell_type": "code",
   "execution_count": 9,
   "metadata": {},
   "outputs": [
    {
     "data": {
      "image/png": "[encoded data removed]",
      "text/plain": [
       "<Figure size 1500x800 with 8 Axes>"
      ]
     },
     "metadata": {},
     "output_type": "display_data"
    },
    {
     "data": {
      "image/png": "[encoded data removed]",
      "text/plain": [
       "<Figure size 1500x500 with 3 Axes>"
      ]
     },
     "metadata": {},
     "output_type": "display_data"
    }
   ],
   "source": [
    "# Visualize the weights before and after quantization\n",
    "plt.figure(figsize=(15, 8))\n",
    "\n",
    "# Original weights\n",
    "plt.subplot(2, 2, 1)\n",
    "plt.imshow(weights, cmap='coolwarm')\n",
    "plt.colorbar()\n",
    "plt.title('Original Weights (FP32)')\n",
    "\n",
    "# Absmax quantized\n",
    "plt.subplot(2, 2, 2)\n",
    "plt.imshow(weights_absmax_dequant, cmap='coolwarm')\n",
    "plt.colorbar()\n",
    "plt.title('Absmax Quantized/Dequantized Weights')\n",
    "\n",
    "# Absmax error\n",
    "plt.subplot(2, 2, 3)\n",
    "plt.imshow(absmax_error, cmap='Reds')\n",
    "plt.colorbar()\n",
    "plt.title('Absmax Quantization Error')\n",
    "\n",
    "# Zero-point error\n",
    "plt.subplot(2, 2, 4)\n",
    "plt.imshow(zp_error, cmap='Reds')\n",
    "plt.colorbar()\n",
    "plt.title('Zero-point Quantization Error')\n",
    "\n",
    "plt.tight_layout()\n",
    "plt.show()\n",
    "\n",
    "# Show value distributions\n",
    "plt.figure(figsize=(15, 5))\n",
    "\n",
    "plt.subplot(1, 3, 1)\n",
    "plt.hist(weights.numpy().flatten(), bins=30, alpha=0.7, color='blue')\n",
    "plt.title('Original Weight Distribution')\n",
    "plt.xlabel('Weight Value')\n",
    "plt.ylabel('Frequency')\n",
    "\n",
    "plt.subplot(1, 3, 2)\n",
    "plt.hist(weights_absmax_dequant.numpy().flatten(), bins=30, alpha=0.7, color='green')\n",
    "plt.title('Absmax Quantized Weight Distribution')\n",
    "plt.xlabel('Weight Value')\n",
    "\n",
    "plt.subplot(1, 3, 3)\n",
    "plt.hist(weights_zp_dequant.numpy().flatten(), bins=30, alpha=0.7, color='orange')\n",
    "plt.title('Zero-point Quantized Weight Distribution')\n",
    "plt.xlabel('Weight Value')\n",
    "\n",
    "plt.tight_layout()\n",
    "plt.show()"
   ]
  },
  {
   "cell_type": "markdown",
   "metadata": {},
   "source": [
    "### Understanding the Quantization Process\n",
    "\n",
    "The example above demonstrates the two main approaches to weight quantization:\n",
    "\n",
    "#### **1. Absmax Quantization**\n",
    "\n",
    "Absmax quantization scales values based on the absolute maximum value in the tensor:\n",
    "\n",
    "1. Find the maximum absolute value in the tensor: `abs_max = max(abs(weights))`\n",
    "2. Calculate the scale factor: `scale = 127 / abs_max` (for 8-bit quantization)\n",
    "3. Quantize by scaling and rounding: `weights_quant = round(weights * scale)`\n",
    "4. Dequantize by dividing by the scale: `weights_dequant = weights_quant / scale`\n",
    "\n",
    "This method centers around zero and uses symmetric quantization, which works well for weights that are roughly centered around zero.\n",
    "\n",
    "#### **2. Zero-point Quantization**\n",
    "\n",
    "Zero-point quantization uses both a scale and an offset (zero point) to better utilize the quantized range:\n",
    "\n",
    "1. Find the min and max values: `x_min = min(weights)`, `x_max = max(weights)`\n",
    "2. Calculate the scale: `scale = 255 / (x_max - x_min)` (for 8-bit)\n",
    "3. Calculate the zero point: `zero_point = round(-scale * x_min - 128)`\n",
    "4. Quantize: `weights_quant = round(weights * scale + zero_point)`\n",
    "5. Dequantize: `weights_dequant = (weights_quant - zero_point) / scale`\n",
    "\n",
    "This method is especially valuable for activations or when weights are not centered around zero.\n",
    "\n",
    "#### **Key Observations**\n",
    "\n",
    "- **Memory Savings**: As demonstrated, 8-bit weights use 1/4 the memory of 32-bit weights\n",
    "- **Quantization Error**: The process introduces small errors that can accumulate in deep networks\n",
    "- **Distribution Preservation**: Both methods preserve the overall distribution shape, but with discretization\n",
    "- **Trade-offs**: Zero-point quantization can utilize the full range better but requires storing an additional parameter (the zero point)\n",
    "\n",
    "#### **4-bit Quantization**\n",
    "\n",
    "For even more aggressive compression (as used in the bitsandbytes library's 4-bit methods), the same principles apply but with smaller ranges:\n",
    "\n",
    "- For INT4, the range is from -8 to 7 (16 values total)\n",
    "- Special quantization schemes like NF4 (normalized float 4) are optimized for the statistical distribution of LLM weights\n",
    "\n",
    "At 4-bit precision, careful calibration and specialized quantization schemes become increasingly important to preserve model accuracy."
   ]
  },
  {
   "cell_type": "code",
   "execution_count": 10,
   "metadata": {},
   "outputs": [
    {
     "name": "stdout",
     "output_type": "stream",
     "text": [
      "Original weights (FP32):\n",
      "tensor([[-0.8543, -0.4328,  0.2731,  0.9126],\n",
      "        [ 0.1892,  0.7253, -0.6105, -0.3217],\n",
      "        [-0.2944,  0.5312,  0.0891, -0.1734]])\n",
      "Memory usage: 48 bytes\n",
      "\n",
      "4-bit quantized weights:\n",
      "tensor([[-7, -3,  2,  7],\n",
      "        [ 1,  6, -5, -2],\n",
      "        [-2,  4,  1, -1]], dtype=torch.int8)\n",
      "\n",
      "4-bit dequantized weights:\n",
      "tensor([[-0.9126, -0.3911,  0.2607,  0.9126],\n",
      "        [ 0.1304,  0.7822, -0.6519, -0.2607],\n",
      "        [-0.2607,  0.5215,  0.1304, -0.1304]])\n",
      "\n",
      "4-bit quantization absolute error:\n",
      "tensor([[0.0583, 0.0417, 0.0124, 0.0000],\n",
      "        [0.0588, 0.0569, 0.0414, 0.0610],\n",
      "        [0.0337, 0.0097, 0.0413, 0.0430]])\n",
      "Mean absolute error: 0.038174\n",
      "\n",
      "8-bit mean absolute error: 0.000990\n",
      "4-bit mean absolute error: 0.038174\n",
      "Error increase: 38.57x\n"
     ]
    },
    {
     "data": {
      "image/png": "[encoded data removed]",
      "text/plain": [
       "<Figure size 1500x500 with 6 Axes>"
      ]
     },
     "metadata": {},
     "output_type": "display_data"
    }
   ],
   "source": [
    "# Let's demonstrate 4-bit quantization effects\n",
    "def int4_quantize(X):\n",
    "    \"\"\"Simple 4-bit quantization demonstration\"\"\"\n",
    "    # For 4-bit, range is -8 to 7\n",
    "    max_val = 7\n",
    "    \n",
    "    # Calculate scale (maps max absolute value to max range)\n",
    "    abs_max = torch.max(torch.abs(X)).item()\n",
    "    scale = max_val / abs_max\n",
    "    \n",
    "    # Quantize: scale and round\n",
    "    X_quant = torch.round(X * scale)\n",
    "    \n",
    "    # Clip values to ensure they fit in the 4-bit range\n",
    "    X_quant = torch.clamp(X_quant, -8, 7)\n",
    "    \n",
    "    # Dequantize: divide by scale to return to original range\n",
    "    X_dequant = X_quant / scale\n",
    "    \n",
    "    return X_quant.to(torch.int8), X_dequant, scale\n",
    "\n",
    "# Apply 4-bit quantization to our weights\n",
    "weights_4bit_quant, weights_4bit_dequant, scale_4bit = int4_quantize(weights)\n",
    "\n",
    "print(\"Original weights (FP32):\")\n",
    "print(weights)\n",
    "print(f\"Memory usage: {weights.nelement() * weights.element_size()} bytes\")\n",
    "\n",
    "print(\"\\n4-bit quantized weights:\")\n",
    "print(weights_4bit_quant)\n",
    "\n",
    "print(\"\\n4-bit dequantized weights:\")\n",
    "print(weights_4bit_dequant)\n",
    "\n",
    "# Calculate quantization error for 4-bit\n",
    "error_4bit = torch.abs(weights - weights_4bit_dequant)\n",
    "print(\"\\n4-bit quantization absolute error:\")\n",
    "print(error_4bit)\n",
    "print(f\"Mean absolute error: {torch.mean(error_4bit):.6f}\")\n",
    "\n",
    "# Compare to 8-bit error\n",
    "print(f\"\\n8-bit mean absolute error: {torch.mean(absmax_error):.6f}\")\n",
    "print(f\"4-bit mean absolute error: {torch.mean(error_4bit):.6f}\")\n",
    "print(f\"Error increase: {torch.mean(error_4bit)/torch.mean(absmax_error):.2f}x\")\n",
    "\n",
    "# Visualize 4-bit quantization \n",
    "plt.figure(figsize=(15, 5))\n",
    "\n",
    "plt.subplot(1, 3, 1)\n",
    "plt.imshow(weights, cmap='coolwarm')\n",
    "plt.colorbar()\n",
    "plt.title('Original Weights (FP32)')\n",
    "\n",
    "plt.subplot(1, 3, 2)\n",
    "plt.imshow(weights_absmax_dequant, cmap='coolwarm')\n",
    "plt.colorbar()\n",
    "plt.title('8-bit Quantized Weights')\n",
    "\n",
    "plt.subplot(1, 3, 3)\n",
    "plt.imshow(weights_4bit_dequant, cmap='coolwarm')\n",
    "plt.colorbar()\n",
    "plt.title('4-bit Quantized Weights')\n",
    "\n",
    "plt.tight_layout()\n",
    "plt.show()"
   ]
  },
  {
   "cell_type": "markdown",
   "metadata": {},
   "source": [
    "### Impact on Model Size and Performance\n",
    "\n",
    "To understand how quantization affects real models, let's calculate the theoretical memory requirements for different quantization levels of a large language model:\n",
    "\n",
    "| Model Size | FP32 (32-bit) | FP16 (16-bit) | INT8 (8-bit) | INT4 (4-bit) |\n",
    "|------------|--------------|--------------|------------|------------|\n",
    "| 7B params | 28 GB | 14 GB | 7 GB | 3.5 GB |\n",
    "| 13B params | 52 GB | 26 GB | 13 GB | 6.5 GB |\n",
    "| 70B params | 280 GB | 140 GB | 70 GB | 35 GB |\n",
    "\n",
    "As you can see, a 70B parameter model that would require 280GB in FP32 precision can be reduced to just 35GB in 4-bit precision, making it possible to run on consumer hardware.\n",
    "\n",
    "Now that we understand the mathematics behind quantization, let's explore how to apply these techniques in practice using specialized libraries."
   ]
  },
  {
   "cell_type": "markdown",
   "metadata": {},
   "source": [
    "## 1. Quantization Fundamentals\n",
    "\n",
    "### What is Quantization?\n",
    "\n",
    "Quantization is the process of reducing the precision of numbers used in a model. Modern deep learning models typically use 32-bit floating-point (FP32) numbers by default, but we can represent these values with fewer bits using various quantization techniques.\n",
    "\n",
    "### Common Quantization Formats\n",
    "\n",
    "- **FP32 (32-bit floating point)**: Standard full precision format\n",
    "- **FP16 (16-bit floating point)**: Half precision, 1 sign bit, 5 exponent bits, 10 mantissa bits\n",
    "- **BF16 (Brain Floating Point)**: 1 sign bit, 8 exponent bits, 7 mantissa bits\n",
    "- **INT8 (8-bit integer)**: Integer-only quantization, often with scaling factors\n",
    "- **INT4 (4-bit integer)**: Extreme quantization for inference only\n",
    "- **Mixed precision**: Different precisions for different parts of the model\n",
    "\n",
    "### Quantization Benefits\n",
    "\n",
    "- **Memory efficiency**: 4-bit models use ~8x less memory than FP32\n",
    "- **Throughput improvements**: Lower precision calculations are faster\n",
    "- **Smaller models**: Enables local deployment and running larger models on consumer hardware\n",
    "- **Energy efficiency**: Less compute = less power consumption\n",
    "\n",
    "### Quantization Approaches\n",
    "\n",
    "1. **Post-Training Quantization (PTQ)**: Apply quantization after a model is fully trained\n",
    "2. **Quantization-Aware Training (QAT)**: Train with simulated quantization to minimize accuracy loss\n",
    "3. **Quantized Fine-Tuning (QLoRA)**: Fine-tune a pre-trained model using quantized weights and adapters"
   ]
  },
  {
   "cell_type": "markdown",
   "metadata": {},
   "source": [
    "## 2. Training with Quantization using BitsAndBytes\n",
    "\n",
    "The [bitsandbytes](https://github.com/bitsandbytes-foundation/bitsandbytes) library provides efficient quantization techniques for both training and inference. Let's explore how to use it for quantized training, particularly for fine-tuning large language models (LLMs)."
   ]
  },
  {
   "cell_type": "code",
   "execution_count": 2,
   "metadata": {},
   "outputs": [
    {
     "name": "stdout",
     "output_type": "stream",
     "text": [
      "\u001b[2K\u001b[2mResolved \u001b[1m17 packages\u001b[0m \u001b[2min 96ms\u001b[0m\u001b[0m                                         \u001b[0m\n",
      "\u001b[2K\u001b[2mPrepared \u001b[1m6 packages\u001b[0m \u001b[2min 201ms\u001b[0m\u001b[0m                                             \n",
      "\u001b[2K████████████████░░░░ [5/6] \u001b[2mhuggingface-hub==0.31.2                              \u001b[0m"
     ]
    },
    {
     "name": "stdout",
     "output_type": "stream",
     "text": [
      "\u001b[2K\u001b[2mInstalled \u001b[1m6 packages\u001b[0m \u001b[2min 1.14s\u001b[0m\u001b[0m                               \u001b[0m\n",
      "\u001b[2mBytecode compiled \u001b[1m10706 files\u001b[0m \u001b[2min 1.03s\u001b[0m\u001b[0m\n",
      " \u001b[32m+\u001b[39m \u001b[1mhuggingface-hub\u001b[0m\u001b[2m==0.31.2\u001b[0m\n",
      " \u001b[32m+\u001b[39m \u001b[1mregex\u001b[0m\u001b[2m==2024.11.6\u001b[0m\n",
      " \u001b[32m+\u001b[39m \u001b[1msafetensors\u001b[0m\u001b[2m==0.5.3\u001b[0m\n",
      " \u001b[32m+\u001b[39m \u001b[1mtokenizers\u001b[0m\u001b[2m==0.21.1\u001b[0m\n",
      " \u001b[32m+\u001b[39m \u001b[1mtqdm\u001b[0m\u001b[2m==4.67.1\u001b[0m\n",
      " \u001b[32m+\u001b[39m \u001b[1mtransformers\u001b[0m\u001b[2m==4.51.3\u001b[0m\n"
     ]
    }
   ],
   "source": [
    "# !uv pip install -U transformers\n",
    "# !uv pip install torch torchvision torchaudio\n",
    "# !uv pip uninstall bitsandbytes && uv pip install bitsandbytes"
   ]
  },
  {
   "cell_type": "code",
   "execution_count": 18,
   "metadata": {},
   "outputs": [
    {
     "name": "stdout",
     "output_type": "stream",
     "text": [
      "\u001b[2K\u001b[37m⠙\u001b[0m \u001b[2mdatasets==3.6.0                                                               \u001b[0m"
     ]
    },
    {
     "name": "stderr",
     "output_type": "stream",
     "text": [
      "huggingface/tokenizers: The current process just got forked, after parallelism has already been used. Disabling parallelism to avoid deadlocks...\n",
      "To disable this warning, you can either:\n",
      "\t- Avoid using `tokenizers` before the fork if possible\n",
      "\t- Explicitly set the environment variable TOKENIZERS_PARALLELISM=(true | false)\n"
     ]
    },
    {
     "name": "stdout",
     "output_type": "stream",
     "text": [
      "\u001b[2K\u001b[2mResolved \u001b[1m65 packages\u001b[0m \u001b[2min 190ms\u001b[0m\u001b[0m                                        \u001b[0m\n",
      "\u001b[2mBytecode compiled \u001b[1m12956 files\u001b[0m \u001b[2min 930ms\u001b[0m\u001b[0m\n"
     ]
    }
   ],
   "source": [
    "# !uv pip install trl peft accelerate\n",
    "!uv pip install --upgrade trl transformers"
   ]
  },
  {
   "cell_type": "markdown",
   "metadata": {},
   "source": [
    "### 2.1 Loading a Model with 4-bit Quantization\n",
    "\n",
    "Let's load a pre-trained model using 4-bit quantization with bitsandbytes.\n",
    "\n",
    "Here, we are specifying the use of 4-bit quantization and also enabling double quantization to reduce the precision loss.\n",
    "\n",
    "For the bnb_4bit_quant_type parameter, we have used the recommended value in the paper QLoRA: Efficient Finetuning of Quantized LLMs.\n",
    "\n",
    "Now, we can go ahead and load the model."
   ]
  },
  {
   "cell_type": "code",
   "execution_count": 21,
   "metadata": {},
   "outputs": [
    {
     "name": "stderr",
     "output_type": "stream",
     "text": [
      "Loading checkpoint shards: 100%|███████████████████████████████████████████████████████████████████████████| 4/4 [00:09<00:00,  2.44s/it]\n"
     ]
    }
   ],
   "source": [
    "import torch\n",
    "from transformers import AutoModelForCausalLM, AutoTokenizer, BitsAndBytesConfig\n",
    "\n",
    "# Configure 4-bit quantization\n",
    "bnb_config = BitsAndBytesConfig(\n",
    "    load_in_4bit=True,           # Load model in 4-bit precision\n",
    "    bnb_4bit_quant_type=\"nf4\",   # Normalized float 4 - optimized for LLM weights\n",
    "    bnb_4bit_compute_dtype=torch.bfloat16,  # Compute in fp16\n",
    "    bnb_4bit_use_double_quant=True   # Nested quantization for further memory savings\n",
    ")\n",
    "\n",
    "# Load a smaller model for demonstration purposes\n",
    "# model_id = \"bigscience/bloom-1b7\"\n",
    "model_id = \"meta-llama/Meta-Llama-3-8B\" # older, more stable llama model\n",
    "\n",
    "# Load model with quantization configuration\n",
    "model = AutoModelForCausalLM.from_pretrained(\n",
    "    model_id,\n",
    "    quantization_config=bnb_config,\n",
    "    device_map={\"\":0},\n",
    "    use_cache=False\n",
    ")\n",
    "\n",
    "# Load tokenizer\n",
    "tokenizer = AutoTokenizer.from_pretrained(model_id)"
   ]
  },
  {
   "cell_type": "code",
   "execution_count": 22,
   "metadata": {},
   "outputs": [],
   "source": [
    "tokenizer.pad_token = tokenizer.eos_token"
   ]
  },
  {
   "cell_type": "markdown",
   "metadata": {},
   "source": [
    "### 2.2 Memory Comparison: Quantized vs. Full Precision\n",
    "\n",
    "Let's compare the memory usage between quantized and full precision models:"
   ]
  },
  {
   "cell_type": "code",
   "execution_count": 2,
   "metadata": {},
   "outputs": [
    {
     "name": "stdout",
     "output_type": "stream",
     "text": [
      "Baseline memory usage: 1.39 GB\n"
     ]
    },
    {
     "name": "stderr",
     "output_type": "stream",
     "text": [
      "Loading checkpoint shards: 100%|███████████████████████████████████████████████████████████████████████████| 4/4 [00:03<00:00,  1.16it/s]\n"
     ]
    },
    {
     "name": "stdout",
     "output_type": "stream",
     "text": [
      "Memory with 4-bit model: 1.98 GB (delta: 0.59 GB)\n"
     ]
    },
    {
     "name": "stderr",
     "output_type": "stream",
     "text": [
      "Loading checkpoint shards: 100%|███████████████████████████████████████████████████████████████████████████| 4/4 [00:02<00:00,  1.50it/s]\n"
     ]
    },
    {
     "name": "stdout",
     "output_type": "stream",
     "text": [
      "Memory with FP16 model: 1.51 GB (delta: 0.12 GB)\n",
      "Memory savings with 4-bit quantization: -408.21%\n"
     ]
    }
   ],
   "source": [
    "import gc\n",
    "import os\n",
    "import psutil\n",
    "\n",
    "def get_memory_usage():\n",
    "    \"\"\"Get current memory usage in GB\"\"\"\n",
    "    process = psutil.Process(os.getpid())\n",
    "    return process.memory_info().rss / (1024 ** 3)\n",
    "\n",
    "# Clear memory and cache\n",
    "gc.collect()\n",
    "torch.cuda.empty_cache()\n",
    "baseline_memory = get_memory_usage()\n",
    "print(f\"Baseline memory usage: {baseline_memory:.2f} GB\")\n",
    "\n",
    "# Load model in 4-bit\n",
    "model_4bit = AutoModelForCausalLM.from_pretrained(\n",
    "    model_id,\n",
    "    quantization_config=bnb_config,\n",
    "    device_map=\"auto\"\n",
    ")\n",
    "memory_4bit = get_memory_usage()\n",
    "print(f\"Memory with 4-bit model: {memory_4bit:.2f} GB (delta: {memory_4bit - baseline_memory:.2f} GB)\")\n",
    "\n",
    "# Clear memory\n",
    "del model_4bit\n",
    "gc.collect()\n",
    "torch.cuda.empty_cache()\n",
    "\n",
    "# Load model in FP16\n",
    "model_fp16 = AutoModelForCausalLM.from_pretrained(\n",
    "    model_id,\n",
    "    torch_dtype=torch.float16,\n",
    "    device_map=\"auto\"\n",
    ")\n",
    "memory_fp16 = get_memory_usage()\n",
    "print(f\"Memory with FP16 model: {memory_fp16:.2f} GB (delta: {memory_fp16 - baseline_memory:.2f} GB)\")\n",
    "\n",
    "# Memory savings\n",
    "savings = ((memory_fp16 - baseline_memory) - (memory_4bit - baseline_memory)) / (memory_fp16 - baseline_memory) * 100\n",
    "print(f\"Memory savings with 4-bit quantization: {savings:.2f}%\")"
   ]
  },
  {
   "cell_type": "markdown",
   "metadata": {},
   "source": [
    "### 2.3 QLoRA: Quantized Low-Rank Adaptation\n",
    "\n",
    "QLoRA is a technique that combines quantization with Low-Rank Adaptation (LoRA) to enable efficient fine-tuning of LLMs. The base model weights remain quantized and frozen, while a small number of trainable adapter parameters are added.\n",
    "\n",
    "We are specifying the use of 4-bit quantization and also enabling double quantization to reduce the precision loss.\n",
    "\n",
    "For the bnb_4bit_quant_type parameter, I've used the recommended value in the paper QLoRA: Efficient Finetuning of Quantized LLMs.\n",
    "\n",
    "Now, we can go ahead and load the model."
   ]
  },
  {
   "cell_type": "code",
   "execution_count": 23,
   "metadata": {},
   "outputs": [],
   "source": [
    "# TARGET_MODULES\n",
    "# https://github.com/huggingface/peft/blob/39ef2546d5d9b8f5f8a7016ec10657887a867041/src/peft/utils/other.py#L220\n",
    "\n",
    "import peft\n",
    "from peft import LoraConfig, get_peft_model\n",
    "target_modules = [\"q_proj\", \"v_proj\"]\n",
    "lora_config = LoraConfig(\n",
    "    r=16, #As bigger the R bigger the parameters to train.\n",
    "    lora_alpha=16, # a scaling factor that adjusts the magnitude of the weight matrix. It seems that as higher more weight have the new training.\n",
    "    target_modules=target_modules,\n",
    "    lora_dropout=0.05, #Helps to avoid Overfitting.\n",
    "    task_type=\"CAUSAL_LM\",\n",
    "    inference_mode=False, # set to False for training\n",
    ")"
   ]
  },
  {
   "cell_type": "code",
   "execution_count": 24,
   "metadata": {},
   "outputs": [],
   "source": [
    "model = get_peft_model(model, lora_config)"
   ]
  },
  {
   "cell_type": "code",
   "execution_count": 4,
   "metadata": {},
   "outputs": [],
   "source": [
    "# model.add_adapter(lora_config)"
   ]
  },
  {
   "cell_type": "markdown",
   "metadata": {},
   "source": [
    "The most important parameter is r, it defines how many parameters will be trained. As bigger the value more parameters are trained, but it means that the model will be able to learn more complicated relations between inputs and outputs.\n",
    "\n",
    "Yo can find a list of the target_modules available on the Hugging Face Documentation\n",
    "\n",
    "lora_alpha. Ad bigger the number more weight have the LoRA activations, it means that the fine-tuning process will have more impac as bigger is this value.\n",
    "\n",
    "lora_dropout is like the commom dropout is used to avoid overfitting.\n",
    "\n",
    "bias I was hesitating if use none or lora_only. For text classification the most common value is none, and for chat or question answering, all or lora_only.\n",
    "\n",
    "task_type. Indicates the task the model is beign trained for. In this case, text generation."
   ]
  },
  {
   "cell_type": "markdown",
   "metadata": {},
   "source": [
    "Let's see how the model does before any instruction fine-tuning, and compare this later after fine-tuning with QLora."
   ]
  },
  {
   "cell_type": "code",
   "execution_count": 5,
   "metadata": {},
   "outputs": [
    {
     "name": "stderr",
     "output_type": "stream",
     "text": [
      "Setting `pad_token_id` to `eos_token_id`:128001 for open-end generation.\n"
     ]
    },
    {
     "name": "stdout",
     "output_type": "stream",
     "text": [
      "[\"I want you to act as a motivational coach. I'm looking for someone who can provide me with some motivation and help boost my confidence.\\nMy name is Jazmine, i am 23 years old from Chicago Illinois.I have been on the path of being an entrepreneur since high school but because it\"]\n"
     ]
    }
   ],
   "source": [
    "#this function returns the outputs from the model received, and inputs.\n",
    "def get_outputs(model, inputs, max_new_tokens=100):\n",
    "    outputs = model.generate(\n",
    "        input_ids=inputs[\"input_ids\"],\n",
    "        attention_mask=inputs[\"attention_mask\"],\n",
    "        max_new_tokens=max_new_tokens,\n",
    "        repetition_penalty=1.5, #Avoid repetition.\n",
    "        early_stopping=False, #The model can stop before reach the max_length\n",
    "        eos_token_id=tokenizer.eos_token_id,\n",
    "    )\n",
    "    return outputs\n",
    "\n",
    "#Inference original model\n",
    "input_sentences = tokenizer(\"I want you to act as a motivational coach.\", return_tensors=\"pt\").to('cuda')\n",
    "foundational_outputs_sentence = get_outputs(model, input_sentences, max_new_tokens=50)\n",
    "\n",
    "print(tokenizer.batch_decode(foundational_outputs_sentence, skip_special_tokens=True))"
   ]
  },
  {
   "cell_type": "markdown",
   "metadata": {},
   "source": [
    "### 2.4 Fine-tuning with Quantized Model\n",
    "\n",
    "Now, let's set up a basic fine-tuning process for our quantized model:"
   ]
  },
  {
   "cell_type": "code",
   "execution_count": 25,
   "metadata": {},
   "outputs": [],
   "source": [
    "alpaca_prompt = \"\"\"Below is an instruction that describes a task, paired with an input that provides further context. Write a response that appropriately completes the request.\n",
    "\n",
    "### Instruction:\n",
    "{}\n",
    "\n",
    "### Input:\n",
    "{}\n",
    "\n",
    "### Response:\n",
    "{}\"\"\"\n",
    "\n",
    "EOS_TOKEN = tokenizer.eos_token # Must add EOS_TOKEN\n",
    "def formatting_prompts_func(examples):\n",
    "    instructions = examples[\"instruction\"]\n",
    "    inputs       = examples[\"input\"]\n",
    "    outputs      = examples[\"output\"]\n",
    "    texts = []\n",
    "    for instruction, input, output in zip(instructions, inputs, outputs):\n",
    "        # Must add EOS_TOKEN, otherwise your generation will go on forever!\n",
    "        text = alpaca_prompt.format(instruction, input, output) + EOS_TOKEN\n",
    "        texts.append(text)\n",
    "    return { \"text\" : texts, }\n",
    "pass\n",
    "\n",
    "from datasets import load_dataset\n",
    "dataset = load_dataset(\"yahma/alpaca-cleaned\", split = \"train\")\n",
    "dataset = dataset.map(formatting_prompts_func, batched = True,)"
   ]
  },
  {
   "cell_type": "code",
   "execution_count": 26,
   "metadata": {},
   "outputs": [
    {
     "data": {
      "text/plain": [
       "Dataset({\n",
       "    features: ['output', 'input', 'instruction', 'text'],\n",
       "    num_rows: 51760\n",
       "})"
      ]
     },
     "metadata": {},
     "output_type": "display_data"
    },
    {
     "name": "stdout",
     "output_type": "stream",
     "text": [
      "{'output': ['1. Eat a balanced and nutritious diet: Make sure your meals are inclusive of a variety of fruits and vegetables, lean protein, whole grains, and healthy fats. This helps to provide your body with the essential nutrients to function at its best and can help prevent chronic diseases.\\n\\n2. Engage in regular physical activity: Exercise is crucial for maintaining strong bones, muscles, and cardiovascular health. Aim for at least 150 minutes of moderate aerobic exercise or 75 minutes of vigorous exercise each week.\\n\\n3. Get enough sleep: Getting enough quality sleep is crucial for physical and mental well-being. It helps to regulate mood, improve cognitive function, and supports healthy growth and immune function. Aim for 7-9 hours of sleep each night.'], 'input': [''], 'instruction': ['Give three tips for staying healthy.'], 'text': ['Below is an instruction that describes a task, paired with an input that provides further context. Write a response that appropriately completes the request.\\n\\n### Instruction:\\nGive three tips for staying healthy.\\n\\n### Input:\\n\\n\\n### Response:\\n1. Eat a balanced and nutritious diet: Make sure your meals are inclusive of a variety of fruits and vegetables, lean protein, whole grains, and healthy fats. This helps to provide your body with the essential nutrients to function at its best and can help prevent chronic diseases.\\n\\n2. Engage in regular physical activity: Exercise is crucial for maintaining strong bones, muscles, and cardiovascular health. Aim for at least 150 minutes of moderate aerobic exercise or 75 minutes of vigorous exercise each week.\\n\\n3. Get enough sleep: Getting enough quality sleep is crucial for physical and mental well-being. It helps to regulate mood, improve cognitive function, and supports healthy growth and immune function. Aim for 7-9 hours of sleep each night.<|end_of_text|>']}\n"
     ]
    }
   ],
   "source": [
    "display(dataset)\n",
    "print(dataset[:1])"
   ]
  },
  {
   "cell_type": "code",
   "execution_count": 27,
   "metadata": {},
   "outputs": [],
   "source": [
    "# SFTTrainer (used below) expects only ONE data column, hence we need to drop the rest not used for training: https://huggingface.co/docs/trl/sft_trainer\n",
    "dataset = dataset.remove_columns('output')\n",
    "dataset = dataset.remove_columns('instruction')\n",
    "dataset = dataset.remove_columns('input')"
   ]
  },
  {
   "cell_type": "code",
   "execution_count": 28,
   "metadata": {},
   "outputs": [
    {
     "data": {
      "text/plain": [
       "Dataset({\n",
       "    features: ['text'],\n",
       "    num_rows: 50\n",
       "})"
      ]
     },
     "metadata": {},
     "output_type": "display_data"
    }
   ],
   "source": [
    "dataset = dataset.select(range(50))\n",
    "display(dataset)"
   ]
  },
  {
   "cell_type": "code",
   "execution_count": 29,
   "metadata": {},
   "outputs": [],
   "source": [
    "#Create a directory to contain the Model\n",
    "import os\n",
    "working_dir = './'\n",
    "\n",
    "output_directory = os.path.join(working_dir, \"peft_outputs\")"
   ]
  },
  {
   "cell_type": "code",
   "execution_count": 30,
   "metadata": {},
   "outputs": [
    {
     "name": "stderr",
     "output_type": "stream",
     "text": [
      "huggingface/tokenizers: The current process just got forked, after parallelism has already been used. Disabling parallelism to avoid deadlocks...\n",
      "To disable this warning, you can either:\n",
      "\t- Avoid using `tokenizers` before the fork if possible\n",
      "\t- Explicitly set the environment variable TOKENIZERS_PARALLELISM=(true | false)\n"
     ]
    }
   ],
   "source": [
    "from transformers import TrainingArguments\n",
    "from trl import SFTConfig, SFTTrainer\n",
    "\n",
    "training_args = TrainingArguments(\n",
    "    output_dir=output_directory,\n",
    "    # per_device_train_batch_size=4,\n",
    "    # gradient_accumulation_steps=1,\n",
    "    auto_find_batch_size=True, # Find a correct bvatch size that fits the size of Data.\n",
    "    learning_rate= 2e-4, # Higher learning rate than full fine-tuning.\n",
    "    num_train_epochs=5\n",
    ")"
   ]
  },
  {
   "cell_type": "code",
   "execution_count": 31,
   "metadata": {},
   "outputs": [
    {
     "name": "stderr",
     "output_type": "stream",
     "text": [
      "huggingface/tokenizers: The current process just got forked, after parallelism has already been used. Disabling parallelism to avoid deadlocks...\n",
      "To disable this warning, you can either:\n",
      "\t- Avoid using `tokenizers` before the fork if possible\n",
      "\t- Explicitly set the environment variable TOKENIZERS_PARALLELISM=(true | false)\n",
      "No label_names provided for model class `PeftModelForCausalLM`. Since `PeftModel` hides base models input arguments, if label_names is not given, label_names can't be set automatically within `Trainer`. Note that empty label_names list will be used instead.\n"
     ]
    }
   ],
   "source": [
    "from trl import SFTTrainer\n",
    "from transformers import TrainingArguments\n",
    "import transformers\n",
    "# from unsloth import is_bfloat16_supported\n",
    "\n",
    "# trainer = SFTTrainer(\n",
    "#     model = model,\n",
    "#     train_dataset = dataset,\n",
    "#     args = TrainingArguments(\n",
    "#         output_dir=\"./results\",\n",
    "#         per_device_train_batch_size=4,\n",
    "#         gradient_accumulation_steps=4,\n",
    "#         learning_rate=2e-4,\n",
    "#         num_train_epochs=1,\n",
    "#         logging_steps=10,\n",
    "#         save_strategy=\"epoch\",\n",
    "#     ),\n",
    "# )\n",
    "\n",
    "\n",
    "trainer = SFTTrainer(\n",
    "    model=model,\n",
    "    args=training_args,\n",
    "    train_dataset=dataset,\n",
    "    peft_config = lora_config,\n",
    "    data_collator=transformers.DataCollatorForLanguageModeling(tokenizer, mlm=False)\n",
    ")"
   ]
  },
  {
   "cell_type": "code",
   "execution_count": 32,
   "metadata": {},
   "outputs": [
    {
     "ename": "RuntimeError",
     "evalue": "The size of tensor a (8) must match the size of tensor b (16) at non-singleton dimension 0",
     "output_type": "error",
     "traceback": [
      "\u001b[0;31m---------------------------------------------------------------------------\u001b[0m",
      "\u001b[0;31mRuntimeError\u001b[0m                              Traceback (most recent call last)",
      "Cell \u001b[0;32mIn[32], line 1\u001b[0m\n\u001b[0;32m----> 1\u001b[0m \u001b[43mtrainer\u001b[49m\u001b[38;5;241;43m.\u001b[39;49m\u001b[43mtrain\u001b[49m\u001b[43m(\u001b[49m\u001b[43m)\u001b[49m\n",
      "File \u001b[0;32m/mnt/weka/aisg/ob1/learning_llm_handbook/notebooks/Week6_Inference_Optimization/.venv/lib/python3.9/site-packages/transformers/trainer.py:2245\u001b[0m, in \u001b[0;36mTrainer.train\u001b[0;34m(self, resume_from_checkpoint, trial, ignore_keys_for_eval, **kwargs)\u001b[0m\n\u001b[1;32m   2243\u001b[0m         hf_hub_utils\u001b[38;5;241m.\u001b[39menable_progress_bars()\n\u001b[1;32m   2244\u001b[0m \u001b[38;5;28;01melse\u001b[39;00m:\n\u001b[0;32m-> 2245\u001b[0m     \u001b[38;5;28;01mreturn\u001b[39;00m \u001b[43minner_training_loop\u001b[49m\u001b[43m(\u001b[49m\n\u001b[1;32m   2246\u001b[0m \u001b[43m        \u001b[49m\u001b[43margs\u001b[49m\u001b[38;5;241;43m=\u001b[39;49m\u001b[43margs\u001b[49m\u001b[43m,\u001b[49m\n\u001b[1;32m   2247\u001b[0m \u001b[43m        \u001b[49m\u001b[43mresume_from_checkpoint\u001b[49m\u001b[38;5;241;43m=\u001b[39;49m\u001b[43mresume_from_checkpoint\u001b[49m\u001b[43m,\u001b[49m\n\u001b[1;32m   2248\u001b[0m \u001b[43m        \u001b[49m\u001b[43mtrial\u001b[49m\u001b[38;5;241;43m=\u001b[39;49m\u001b[43mtrial\u001b[49m\u001b[43m,\u001b[49m\n\u001b[1;32m   2249\u001b[0m \u001b[43m        \u001b[49m\u001b[43mignore_keys_for_eval\u001b[49m\u001b[38;5;241;43m=\u001b[39;49m\u001b[43mignore_keys_for_eval\u001b[49m\u001b[43m,\u001b[49m\n\u001b[1;32m   2250\u001b[0m \u001b[43m    \u001b[49m\u001b[43m)\u001b[49m\n",
      "File \u001b[0;32m/mnt/weka/aisg/ob1/learning_llm_handbook/notebooks/Week6_Inference_Optimization/.venv/lib/python3.9/site-packages/accelerate/utils/memory.py:174\u001b[0m, in \u001b[0;36mfind_executable_batch_size.<locals>.decorator\u001b[0;34m(*args, **kwargs)\u001b[0m\n\u001b[1;32m    172\u001b[0m     \u001b[38;5;28;01mraise\u001b[39;00m \u001b[38;5;167;01mRuntimeError\u001b[39;00m(\u001b[38;5;124m\"\u001b[39m\u001b[38;5;124mNo executable batch size found, reached zero.\u001b[39m\u001b[38;5;124m\"\u001b[39m)\n\u001b[1;32m    173\u001b[0m \u001b[38;5;28;01mtry\u001b[39;00m:\n\u001b[0;32m--> 174\u001b[0m     \u001b[38;5;28;01mreturn\u001b[39;00m \u001b[43mfunction\u001b[49m\u001b[43m(\u001b[49m\u001b[43mbatch_size\u001b[49m\u001b[43m,\u001b[49m\u001b[43m \u001b[49m\u001b[38;5;241;43m*\u001b[39;49m\u001b[43margs\u001b[49m\u001b[43m,\u001b[49m\u001b[43m \u001b[49m\u001b[38;5;241;43m*\u001b[39;49m\u001b[38;5;241;43m*\u001b[39;49m\u001b[43mkwargs\u001b[49m\u001b[43m)\u001b[49m\n\u001b[1;32m    175\u001b[0m \u001b[38;5;28;01mexcept\u001b[39;00m \u001b[38;5;167;01mException\u001b[39;00m \u001b[38;5;28;01mas\u001b[39;00m e:\n\u001b[1;32m    176\u001b[0m     \u001b[38;5;28;01mif\u001b[39;00m should_reduce_batch_size(e):\n",
      "File \u001b[0;32m/mnt/weka/aisg/ob1/learning_llm_handbook/notebooks/Week6_Inference_Optimization/.venv/lib/python3.9/site-packages/transformers/trainer.py:2560\u001b[0m, in \u001b[0;36mTrainer._inner_training_loop\u001b[0;34m(self, batch_size, args, resume_from_checkpoint, trial, ignore_keys_for_eval)\u001b[0m\n\u001b[1;32m   2553\u001b[0m context \u001b[38;5;241m=\u001b[39m (\n\u001b[1;32m   2554\u001b[0m     functools\u001b[38;5;241m.\u001b[39mpartial(\u001b[38;5;28mself\u001b[39m\u001b[38;5;241m.\u001b[39maccelerator\u001b[38;5;241m.\u001b[39mno_sync, model\u001b[38;5;241m=\u001b[39mmodel)\n\u001b[1;32m   2555\u001b[0m     \u001b[38;5;28;01mif\u001b[39;00m i \u001b[38;5;241m!=\u001b[39m \u001b[38;5;28mlen\u001b[39m(batch_samples) \u001b[38;5;241m-\u001b[39m \u001b[38;5;241m1\u001b[39m\n\u001b[1;32m   2556\u001b[0m     \u001b[38;5;129;01mand\u001b[39;00m \u001b[38;5;28mself\u001b[39m\u001b[38;5;241m.\u001b[39maccelerator\u001b[38;5;241m.\u001b[39mdistributed_type \u001b[38;5;241m!=\u001b[39m DistributedType\u001b[38;5;241m.\u001b[39mDEEPSPEED\n\u001b[1;32m   2557\u001b[0m     \u001b[38;5;28;01melse\u001b[39;00m contextlib\u001b[38;5;241m.\u001b[39mnullcontext\n\u001b[1;32m   2558\u001b[0m )\n\u001b[1;32m   2559\u001b[0m \u001b[38;5;28;01mwith\u001b[39;00m context():\n\u001b[0;32m-> 2560\u001b[0m     tr_loss_step \u001b[38;5;241m=\u001b[39m \u001b[38;5;28;43mself\u001b[39;49m\u001b[38;5;241;43m.\u001b[39;49m\u001b[43mtraining_step\u001b[49m\u001b[43m(\u001b[49m\u001b[43mmodel\u001b[49m\u001b[43m,\u001b[49m\u001b[43m \u001b[49m\u001b[43minputs\u001b[49m\u001b[43m,\u001b[49m\u001b[43m \u001b[49m\u001b[43mnum_items_in_batch\u001b[49m\u001b[43m)\u001b[49m\n\u001b[1;32m   2562\u001b[0m \u001b[38;5;28;01mif\u001b[39;00m (\n\u001b[1;32m   2563\u001b[0m     args\u001b[38;5;241m.\u001b[39mlogging_nan_inf_filter\n\u001b[1;32m   2564\u001b[0m     \u001b[38;5;129;01mand\u001b[39;00m \u001b[38;5;129;01mnot\u001b[39;00m is_torch_xla_available()\n\u001b[1;32m   2565\u001b[0m     \u001b[38;5;129;01mand\u001b[39;00m (torch\u001b[38;5;241m.\u001b[39misnan(tr_loss_step) \u001b[38;5;129;01mor\u001b[39;00m torch\u001b[38;5;241m.\u001b[39misinf(tr_loss_step))\n\u001b[1;32m   2566\u001b[0m ):\n\u001b[1;32m   2567\u001b[0m     \u001b[38;5;66;03m# if loss is nan or inf simply add the average of previous logged losses\u001b[39;00m\n\u001b[1;32m   2568\u001b[0m     tr_loss \u001b[38;5;241m=\u001b[39m tr_loss \u001b[38;5;241m+\u001b[39m tr_loss \u001b[38;5;241m/\u001b[39m (\u001b[38;5;241m1\u001b[39m \u001b[38;5;241m+\u001b[39m \u001b[38;5;28mself\u001b[39m\u001b[38;5;241m.\u001b[39mstate\u001b[38;5;241m.\u001b[39mglobal_step \u001b[38;5;241m-\u001b[39m \u001b[38;5;28mself\u001b[39m\u001b[38;5;241m.\u001b[39m_globalstep_last_logged)\n",
      "File \u001b[0;32m/mnt/weka/aisg/ob1/learning_llm_handbook/notebooks/Week6_Inference_Optimization/.venv/lib/python3.9/site-packages/transformers/trainer.py:3736\u001b[0m, in \u001b[0;36mTrainer.training_step\u001b[0;34m(self, model, inputs, num_items_in_batch)\u001b[0m\n\u001b[1;32m   3733\u001b[0m     \u001b[38;5;28;01mreturn\u001b[39;00m loss_mb\u001b[38;5;241m.\u001b[39mreduce_mean()\u001b[38;5;241m.\u001b[39mdetach()\u001b[38;5;241m.\u001b[39mto(\u001b[38;5;28mself\u001b[39m\u001b[38;5;241m.\u001b[39margs\u001b[38;5;241m.\u001b[39mdevice)\n\u001b[1;32m   3735\u001b[0m \u001b[38;5;28;01mwith\u001b[39;00m \u001b[38;5;28mself\u001b[39m\u001b[38;5;241m.\u001b[39mcompute_loss_context_manager():\n\u001b[0;32m-> 3736\u001b[0m     loss \u001b[38;5;241m=\u001b[39m \u001b[38;5;28;43mself\u001b[39;49m\u001b[38;5;241;43m.\u001b[39;49m\u001b[43mcompute_loss\u001b[49m\u001b[43m(\u001b[49m\u001b[43mmodel\u001b[49m\u001b[43m,\u001b[49m\u001b[43m \u001b[49m\u001b[43minputs\u001b[49m\u001b[43m,\u001b[49m\u001b[43m \u001b[49m\u001b[43mnum_items_in_batch\u001b[49m\u001b[38;5;241;43m=\u001b[39;49m\u001b[43mnum_items_in_batch\u001b[49m\u001b[43m)\u001b[49m\n\u001b[1;32m   3738\u001b[0m \u001b[38;5;28;01mdel\u001b[39;00m inputs\n\u001b[1;32m   3739\u001b[0m \u001b[38;5;28;01mif\u001b[39;00m (\n\u001b[1;32m   3740\u001b[0m     \u001b[38;5;28mself\u001b[39m\u001b[38;5;241m.\u001b[39margs\u001b[38;5;241m.\u001b[39mtorch_empty_cache_steps \u001b[38;5;129;01mis\u001b[39;00m \u001b[38;5;129;01mnot\u001b[39;00m \u001b[38;5;28;01mNone\u001b[39;00m\n\u001b[1;32m   3741\u001b[0m     \u001b[38;5;129;01mand\u001b[39;00m \u001b[38;5;28mself\u001b[39m\u001b[38;5;241m.\u001b[39mstate\u001b[38;5;241m.\u001b[39mglobal_step \u001b[38;5;241m%\u001b[39m \u001b[38;5;28mself\u001b[39m\u001b[38;5;241m.\u001b[39margs\u001b[38;5;241m.\u001b[39mtorch_empty_cache_steps \u001b[38;5;241m==\u001b[39m \u001b[38;5;241m0\u001b[39m\n\u001b[1;32m   3742\u001b[0m ):\n",
      "File \u001b[0;32m/mnt/weka/aisg/ob1/learning_llm_handbook/notebooks/Week6_Inference_Optimization/.venv/lib/python3.9/site-packages/trl/trainer/sft_trainer.py:682\u001b[0m, in \u001b[0;36mSFTTrainer.compute_loss\u001b[0;34m(self, model, inputs, return_outputs, num_items_in_batch)\u001b[0m\n\u001b[1;32m    679\u001b[0m mask \u001b[38;5;241m=\u001b[39m shift_labels \u001b[38;5;241m!=\u001b[39m \u001b[38;5;241m-\u001b[39m\u001b[38;5;241m100\u001b[39m\n\u001b[1;32m    681\u001b[0m \u001b[38;5;66;03m# Calculate accuracy only on non-padding tokens\u001b[39;00m\n\u001b[0;32m--> 682\u001b[0m correct_predictions \u001b[38;5;241m=\u001b[39m (\u001b[43mpredictions\u001b[49m\u001b[43m \u001b[49m\u001b[38;5;241;43m==\u001b[39;49m\u001b[43m \u001b[49m\u001b[43mshift_labels\u001b[49m) \u001b[38;5;241m&\u001b[39m mask\n\u001b[1;32m    683\u001b[0m total_tokens \u001b[38;5;241m=\u001b[39m mask\u001b[38;5;241m.\u001b[39msum()\n\u001b[1;32m    684\u001b[0m correct_tokens \u001b[38;5;241m=\u001b[39m correct_predictions\u001b[38;5;241m.\u001b[39msum()\n",
      "\u001b[0;31mRuntimeError\u001b[0m: The size of tensor a (8) must match the size of tensor b (16) at non-singleton dimension 0"
     ]
    }
   ],
   "source": [
    "trainer.train()"
   ]
  },
  {
   "cell_type": "code",
   "execution_count": null,
   "metadata": {},
   "outputs": [
    {
     "name": "stderr",
     "output_type": "stream",
     "text": [
      "Map: 100%|█████████████████████████████████████████████████████████████████████████████████| 1000/1000 [00:00<00:00, 15023.76 examples/s]\n",
      "huggingface/tokenizers: The current process just got forked, after parallelism has already been used. Disabling parallelism to avoid deadlocks...\n",
      "To disable this warning, you can either:\n",
      "\t- Avoid using `tokenizers` before the fork if possible\n",
      "\t- Explicitly set the environment variable TOKENIZERS_PARALLELISM=(true | false)\n",
      "Truncating train dataset: 100%|███████████████████████████████████████████████████████████| 1000/1000 [00:00<00:00, 138994.70 examples/s]\n"
     ]
    }
   ],
   "source": [
    "# from datasets import load_dataset\n",
    "# from transformers import TrainingArguments, Trainer, DataCollatorForLanguageModeling\n",
    "# from trl import SFTTrainer\n",
    "\n",
    "\n",
    "# # Load a small sample dataset for demonstration\n",
    "# # dataset = load_dataset(\"yahma/alpaca-cleaned\", split=\"train\")\n",
    "# dataset = dataset.select(range(1000))  # Use a small subset\n",
    "\n",
    "# # Tokenize the dataset\n",
    "# def tokenize_function(examples):\n",
    "#     tokenizer.pad_token = tokenizer.eos_token\n",
    "#     return tokenizer(examples[\"text\"], truncation=True, padding=\"max_length\", max_length=128)\n",
    "\n",
    "# tokenized_dataset = dataset.map(tokenize_function, batched=True)\n",
    "# # tokenized_dataset = tokenized_dataset.remove_columns([\"quote\", \"author\"])\n",
    "\n",
    "# # Initialize data collator\n",
    "# data_collator = DataCollatorForLanguageModeling(tokenizer=tokenizer, mlm=False)\n",
    "\n",
    "# # Set up training arguments\n",
    "# # training_args = TrainingArguments(\n",
    "# #     output_dir=\"./results\",\n",
    "# #     per_device_train_batch_size=4,\n",
    "# #     gradient_accumulation_steps=4,\n",
    "# #     learning_rate=2e-4,\n",
    "# #     num_train_epochs=1,\n",
    "# #     logging_steps=10,\n",
    "# #     save_strategy=\"epoch\",\n",
    "# #     fp16=True,  # Use mixed precision training\n",
    "# # )\n",
    "\n",
    "# # Initialize trainer\n",
    "# trainer = SFTTrainer(\n",
    "#     model=model,\n",
    "#     args=training_args,\n",
    "#     train_dataset=tokenized_dataset,\n",
    "#     data_collator=data_collator,\n",
    "# )\n",
    "\n",
    "# # Fine-tune the model (commented out for notebook purposes)\n",
    "# # trainer.train()"
   ]
  },
  {
   "cell_type": "markdown",
   "metadata": {},
   "source": [
    "### 2.5 Saving and Loading Quantized Models\n",
    "\n",
    "After fine-tuning, we can save and load our model:"
   ]
  },
  {
   "cell_type": "code",
   "execution_count": 16,
   "metadata": {},
   "outputs": [],
   "source": [
    "# Save the LoRA adapter weights only (much smaller than full model)\n",
    "model.save_pretrained(\"./lora_adapter\")\n",
    "\n",
    "# To use the model later:\n",
    "from peft import PeftModel, PeftConfig\n",
    "\n",
    "# Load the base model with quantization\n",
    "base_model = AutoModelForCausalLM.from_pretrained(\n",
    "    model_id,\n",
    "    quantization_config=bnb_config,\n",
    "    device_map=\"auto\"\n",
    ")\n",
    "\n",
    "# Load the LoRA adapter\n",
    "peft_model_id = \"./lora_adapter\"\n",
    "model = PeftModel.from_pretrained(base_model, peft_model_id)\n",
    "\n",
    "# Optionally merge the adapter weights with the base model\n",
    "merged_model = model.merge_and_unload()"
   ]
  },
  {
   "cell_type": "markdown",
   "metadata": {},
   "source": [
    "## 3. Inference Quantization with GGUF and llama.cpp\n",
    "\n",
    "For inference-only applications, we can use more aggressive quantization techniques. [llama.cpp](https://github.com/ggml-org/llama.cpp) is a popular C/C++ implementation that enables highly optimized inference on CPU and GPU with various quantization formats using the GGUF format."
   ]
  },
  {
   "cell_type": "code",
   "execution_count": 17,
   "metadata": {},
   "outputs": [
    {
     "name": "stderr",
     "output_type": "stream",
     "text": [
      "huggingface/tokenizers: The current process just got forked, after parallelism has already been used. Disabling parallelism to avoid deadlocks...\n",
      "To disable this warning, you can either:\n",
      "\t- Avoid using `tokenizers` before the fork if possible\n",
      "\t- Explicitly set the environment variable TOKENIZERS_PARALLELISM=(true | false)\n"
     ]
    },
    {
     "name": "stdout",
     "output_type": "stream",
     "text": [
      "Requirement already satisfied: llama-cpp-python in ./.venv/lib/python3.12/site-packages (0.3.9)\n",
      "Requirement already satisfied: typing-extensions>=4.5.0 in ./.venv/lib/python3.12/site-packages (from llama-cpp-python) (4.13.2)\n",
      "Requirement already satisfied: numpy>=1.20.0 in ./.venv/lib/python3.12/site-packages (from llama-cpp-python) (2.1.2)\n",
      "Requirement already satisfied: diskcache>=5.6.1 in ./.venv/lib/python3.12/site-packages (from llama-cpp-python) (5.6.3)\n",
      "Requirement already satisfied: jinja2>=2.11.3 in ./.venv/lib/python3.12/site-packages (from llama-cpp-python) (3.1.6)\n",
      "Requirement already satisfied: MarkupSafe>=2.0 in ./.venv/lib/python3.12/site-packages (from jinja2>=2.11.3->llama-cpp-python) (3.0.2)\n"
     ]
    }
   ],
   "source": [
    "# Install llama-cpp-python\n",
    "!uv pip install llama-cpp-python"
   ]
  },
  {
   "cell_type": "markdown",
   "metadata": {},
   "source": [
    "### 3.1 Understanding GGUF Format\n",
    "\n",
    "GGUF (GGML Universal Format) is a file format designed for storing and sharing quantized models. It's the successor to GGML format and has improved support for metadata and different model architectures.\n",
    "\n",
    "Key features of GGUF:\n",
    "- Stores model architecture, weights, and tokenizer information\n",
    "- Supports multiple quantization methods (Q4_K, Q5_K, Q6_K, Q8_0, etc.)\n",
    "- Enables efficient CPU and GPU inference\n",
    "- Platform-independent\n",
    "\n",
    "Common quantization types in GGUF:\n",
    "- **Q4_0**: 4-bit quantization (simplest)\n",
    "- **Q4_K**: 4-bit quantization with K-quants (better accuracy)\n",
    "- **Q5_K**: 5-bit quantization with K-quants\n",
    "- **Q8_0**: 8-bit quantization (higher quality, larger size)\n",
    "- **F16**: 16-bit floating point (highest quality, largest size)"
   ]
  },
  {
   "cell_type": "markdown",
   "metadata": {},
   "source": [
    "### 3.2 Converting a Model to GGUF\n",
    "\n",
    "Converting models to GGUF typically involves using the conversion scripts in the llama.cpp repository. For demonstration, we'll show the command-line process:"
   ]
  },
  {
   "cell_type": "code",
   "execution_count": 18,
   "metadata": {},
   "outputs": [
    {
     "data": {
      "text/plain": [
       "'\\n# Clone llama.cpp repository\\n!git clone https://github.com/ggml-org/llama.cpp\\n!cd llama.cpp && mkdir build && cd build && cmake .. && make -j\\n\\n# Convert model to GGUF (assuming you have a HuggingFace model)\\n!python llama.cpp/convert.py /path/to/hf/model --outfile model_base.gguf\\n\\n# Quantize to 4-bit\\n!llama.cpp/build/bin/llama-quantize model_base.gguf model_q4_0.gguf q4_0\\n'"
      ]
     },
     "execution_count": 18,
     "metadata": {},
     "output_type": "execute_result"
    }
   ],
   "source": [
    "# Clone llama.cpp repo and convert a model (commented out since this is for reference)\n",
    "\n",
    "# Clone llama.cpp repository\n",
    "!git clone https://github.com/ggml-org/llama.cpp\n",
    "!cd llama.cpp && mkdir build && cd build && cmake .. && make -j\n",
    "\n",
    "# Convert model to GGUF (assuming you have a HuggingFace model)\n",
    "!uv python run llama.cpp/convert.py /path/to/hf/model --outfile model_base.gguf\n",
    "\n",
    "# Quantize to 4-bit\n",
    "!llama.cpp/build/bin/llama-quantize model_base.gguf model_q4_0.gguf q4_0"
   ]
  },
  {
   "cell_type": "markdown",
   "metadata": {},
   "source": [
    "### 3.3 Using a Quantized GGUF Model with llama-cpp-python"
   ]
  },
  {
   "cell_type": "code",
   "execution_count": 19,
   "metadata": {},
   "outputs": [
    {
     "data": {
      "text/plain": [
       "'\\n# Initialize the model\\nllm = Llama(\\n    model_path=model_path,  # Path to the quantized model\\n    n_ctx=2048,             # Context window size\\n    n_batch=512,            # Batch size for prompt processing\\n    n_gpu_layers=-1,        # Number of layers to offload to GPU (-1 = all)\\n    verbose=False           # Verbose output\\n)\\n\\n# Generate text\\nprompt = \"Write a short poem about quantization:\"\\noutput = llm(prompt, max_tokens=200, temperature=0.7, top_p=0.95)\\n\\n# Print the result\\nprint(output[\"choices\"][0][\"text\"])\\n'"
      ]
     },
     "execution_count": 19,
     "metadata": {},
     "output_type": "execute_result"
    }
   ],
   "source": [
    "from llama_cpp import Llama\n",
    "\n",
    "# For demonstration, we'll use a remote path to a pre-quantized GGUF model\n",
    "# In a real application, you'd use a local path to your converted model\n",
    "# model_path = \"model_q4_0.gguf\"\n",
    "\n",
    "# For demonstration, let's assume we've downloaded a quantized model\n",
    "model_path = \"./tinyllama-1.1b-chat-v1.0.Q4_0.gguf\"  # Replace with your model path\n",
    "\n",
    "# If you don't have a model available, we'll provide code that\n",
    "# shows what you would do assuming you have the model\n",
    "\n",
    "'''\n",
    "# Initialize the model\n",
    "llm = Llama(\n",
    "    model_path=model_path,  # Path to the quantized model\n",
    "    n_ctx=2048,             # Context window size\n",
    "    n_batch=512,            # Batch size for prompt processing\n",
    "    n_gpu_layers=-1,        # Number of layers to offload to GPU (-1 = all)\n",
    "    verbose=False           # Verbose output\n",
    ")\n",
    "\n",
    "# Generate text\n",
    "prompt = \"Write a short poem about quantization:\"\n",
    "output = llm(prompt, max_tokens=200, temperature=0.7, top_p=0.95)\n",
    "\n",
    "# Print the result\n",
    "print(output[\"choices\"][0][\"text\"])\n",
    "'''"
   ]
  },
  {
   "cell_type": "markdown",
   "metadata": {},
   "source": [
    "### 3.4 Benchmarking Different Quantization Levels\n",
    "\n",
    "Let's compare the performance of different quantization levels:"
   ]
  },
  {
   "cell_type": "code",
   "execution_count": 20,
   "metadata": {},
   "outputs": [
    {
     "name": "stdout",
     "output_type": "stream",
     "text": [
      "Loading model: ./model_Q4_0.gguf\n",
      "  Sample benchmark data (for demonstration)\n",
      "  Load time: 1.25 seconds\n",
      "  Memory usage: 0.8 GB\n",
      "  Generation time: 5.32 seconds\n",
      "  Tokens per second: 18.8\n",
      "\n",
      "Loading model: ./model_Q5_K.gguf\n",
      "  Sample benchmark data (for demonstration)\n",
      "  Load time: 1.47 seconds\n",
      "  Memory usage: 0.95 GB\n",
      "  Generation time: 5.15 seconds\n",
      "  Tokens per second: 19.4\n",
      "\n",
      "Loading model: ./model_Q8_0.gguf\n",
      "  Sample benchmark data (for demonstration)\n",
      "  Load time: 1.78 seconds\n",
      "  Memory usage: 1.45 GB\n",
      "  Generation time: 4.98 seconds\n",
      "  Tokens per second: 20.1\n",
      "\n",
      "Loading model: ./model_F16.gguf\n",
      "  Sample benchmark data (for demonstration)\n",
      "  Load time: 2.34 seconds\n",
      "  Memory usage: 2.8 GB\n",
      "  Generation time: 4.75 seconds\n",
      "  Tokens per second: 21.0\n",
      "\n"
     ]
    }
   ],
   "source": [
    "import time\n",
    "\n",
    "def benchmark_model(model_path, prompt, max_tokens=100):\n",
    "    \"\"\"Benchmark model performance\"\"\"\n",
    "    print(f\"Loading model: {model_path}\")\n",
    "    \n",
    "    # Code for benchmarking, which would run if you have the models\n",
    "    '''\n",
    "    # Initialize model\n",
    "    start_time = time.time()\n",
    "    llm = Llama(model_path=model_path, n_ctx=2048, n_batch=512)\n",
    "    load_time = time.time() - start_time\n",
    "    print(f\"  Load time: {load_time:.2f} seconds\")\n",
    "    \n",
    "    # Get memory usage\n",
    "    memory_usage = get_memory_usage()\n",
    "    print(f\"  Memory usage: {memory_usage:.2f} GB\")\n",
    "    \n",
    "    # Generate text\n",
    "    start_time = time.time()\n",
    "    output = llm(prompt, max_tokens=max_tokens, temperature=0.7)\n",
    "    generate_time = time.time() - start_time\n",
    "    tokens_per_second = max_tokens / generate_time\n",
    "    print(f\"  Generation time: {generate_time:.2f} seconds\")\n",
    "    print(f\"  Tokens per second: {tokens_per_second:.2f}\")\n",
    "    '''\n",
    "    \n",
    "    # For demonstration, we'll just show expected results\n",
    "    print(\"  Sample benchmark data (for demonstration)\")\n",
    "    if \"Q4_0\" in model_path:\n",
    "        print(\"  Load time: 1.25 seconds\")\n",
    "        print(\"  Memory usage: 0.8 GB\")\n",
    "        print(\"  Generation time: 5.32 seconds\")\n",
    "        print(\"  Tokens per second: 18.8\")\n",
    "    elif \"Q5_K\" in model_path:\n",
    "        print(\"  Load time: 1.47 seconds\")\n",
    "        print(\"  Memory usage: 0.95 GB\")\n",
    "        print(\"  Generation time: 5.15 seconds\")\n",
    "        print(\"  Tokens per second: 19.4\")\n",
    "    elif \"Q8_0\" in model_path:\n",
    "        print(\"  Load time: 1.78 seconds\")\n",
    "        print(\"  Memory usage: 1.45 GB\")\n",
    "        print(\"  Generation time: 4.98 seconds\")\n",
    "        print(\"  Tokens per second: 20.1\")\n",
    "    elif \"F16\" in model_path:\n",
    "        print(\"  Load time: 2.34 seconds\")\n",
    "        print(\"  Memory usage: 2.8 GB\")\n",
    "        print(\"  Generation time: 4.75 seconds\")\n",
    "        print(\"  Tokens per second: 21.0\")\n",
    "    print(\"\")\n",
    "\n",
    "# Benchmark different quantization levels (demonstration)\n",
    "benchmark_model(\"./model_Q4_0.gguf\", \"Explain the concept of neural networks:\") \n",
    "benchmark_model(\"./model_Q5_K.gguf\", \"Explain the concept of neural networks:\")\n",
    "benchmark_model(\"./model_Q8_0.gguf\", \"Explain the concept of neural networks:\")\n",
    "benchmark_model(\"./model_F16.gguf\", \"Explain the concept of neural networks:\")"
   ]
  },
  {
   "cell_type": "markdown",
   "metadata": {},
   "source": [
    "### 3.5 Real-world Considerations\n",
    "\n",
    "When choosing a quantization level for your application, consider these factors:\n",
    "\n",
    "1. **Hardware Constraints**:\n",
    "   - Limited RAM: Use 4-bit or 5-bit quantization\n",
    "   - Limited CPU/GPU: Lower precision is typically faster\n",
    "   - Mobile/edge devices: Extreme quantization (Q2_K, Q3_K, Q4_0)\n",
    "\n",
    "2. **Task Requirements**:\n",
    "   - Complex reasoning: Higher precision (Q6_K, Q8_0, F16)\n",
    "   - Simple text generation: Lower precision may be sufficient\n",
    "   - Creative writing: May need higher precision\n",
    "\n",
    "3. **Quality vs. Performance Tradeoff**:\n",
    "   - Q4_0/Q4_K: Fastest, smallest, lowest quality\n",
    "   - Q5_K: Good balance for many applications\n",
    "   - Q8_0: Higher quality, larger size, slower\n",
    "   - F16: Highest quality, largest size, slowest\n",
    "\n",
    "4. **Specific Model Characteristics**:\n",
    "   - Some models are more robust to quantization than others\n",
    "   - Instruction-tuned models often maintain quality better at lower precision\n",
    "   - LLMs with more parameters may need higher precision to maintain quality"
   ]
  },
  {
   "cell_type": "markdown",
   "metadata": {},
   "source": [
    "### 3.6 Server Deployment with llama.cpp\n",
    "\n",
    "For a production deployment, you might want to run llama.cpp as a server:"
   ]
  },
  {
   "cell_type": "code",
   "execution_count": 21,
   "metadata": {},
   "outputs": [],
   "source": [
    "# Run llama.cpp as a server (command-line reference)\n",
    "\n",
    "'''\n",
    "# Start server\n",
    "!llama.cpp/build/bin/llama-server \\\n",
    "  -m model_q4_0.gguf \\\n",
    "  -c 2048 \\\n",
    "  --host 0.0.0.0 \\\n",
    "  --port 8080\n",
    "'''\n",
    "\n",
    "# Example client request code\n",
    "import requests\n",
    "import json\n",
    "\n",
    "def query_llama_server(prompt, max_tokens=100):\n",
    "    \"\"\"Query the llama.cpp server\"\"\"\n",
    "    url = \"http://localhost:8080/completion\"\n",
    "    payload = {\n",
    "        \"prompt\": prompt,\n",
    "        \"n_predict\": max_tokens,\n",
    "        \"temperature\": 0.7,\n",
    "        \"top_p\": 0.95,\n",
    "        \"stream\": False\n",
    "    }\n",
    "    \n",
    "    response = requests.post(url, json=payload)\n",
    "    return response.json()\n",
    "\n",
    "# Example request (commented out since server isn't running)\n",
    "# result = query_llama_server(\"Explain quantization in simple terms:\")\n",
    "# print(result[\"content\"])"
   ]
  },
  {
   "cell_type": "markdown",
   "metadata": {},
   "source": [
    "## 4. Choosing the Right Quantization Strategy\n",
    "\n",
    "### Training vs. Inference Quantization\n",
    "\n",
    "| Aspect | Training Quantization (bitsandbytes) | Inference Quantization (GGUF) |\n",
    "|--------|--------------------------------------|--------------------------------|\n",
    "| **Primary Goal** | Enable training/fine-tuning on consumer hardware | Maximize inference speed and minimize memory usage |\n",
    "| **Precision** | Usually 4-bit, 8-bit | 2-bit to 8-bit options |\n",
    "| **Implementation** | PyTorch-based, integrated with HF | C/C++ implementation |\n",
    "| **Adaptability** | Parameters can be updated | Fixed weights |\n",
    "| **Use Case** | Fine-tuning large models on limited hardware | Deploying models for inference on various devices |\n",
    "| **Quality Impact** | Minimal with QLoRA | Varies by quantization level |\n",
    "\n",
    "### Decision Framework\n",
    "\n",
    "1. **Are you fine-tuning or just running inference?**\n",
    "   - Fine-tuning: bitsandbytes with QLoRA\n",
    "   - Inference only: GGUF with llama.cpp\n",
    "\n",
    "2. **What hardware constraints do you have?**\n",
    "   - Consumer GPU (8-24GB): 4-bit quantization\n",
    "   - CPU only: GGUF with Q4_0 or Q4_K\n",
    "   - Edge device: GGUF with Q2_K or Q3_K\n",
    "\n",
    "3. **What is your quality tolerance?**\n",
    "   - Highest quality: FP16 or Q8_0\n",
    "   - Balanced: Q5_K or Q6_K\n",
    "   - Prioritize efficiency: Q4_0 or Q4_K\n",
    "\n",
    "4. **What is your target use case?**\n",
    "   - Research: Higher precision\n",
    "   - Production API: Balanced approach\n",
    "   - Local applications: Lower precision"
   ]
  },
  {
   "cell_type": "markdown",
   "metadata": {},
   "source": [
    "## 5. Conclusion\n",
    "\n",
    "Quantization is a powerful technique that makes large models accessible on consumer hardware. Key takeaways:\n",
    "\n",
    "1. **For training and fine-tuning**:\n",
    "   - bitsandbytes with QLoRA enables efficient fine-tuning of large models\n",
    "   - 4-bit quantization can reduce memory usage by 75%+ compared to FP16\n",
    "   - Only a small fraction of parameters need to be updated\n",
    "\n",
    "2. **For inference**:\n",
    "   - GGUF format with llama.cpp provides highly optimized inference\n",
    "   - Multiple quantization levels allow balancing quality and efficiency\n",
    "   - Enables deployment on a wide range of hardware, from servers to mobile devices\n",
    "\n",
    "3. **Practical applications**:\n",
    "   - Run 70B parameter models on consumer GPUs\n",
    "   - Deploy models locally without cloud dependencies\n",
    "   - Reduce inference latency and cost in production"
   ]
  }
 ],
 "metadata": {
  "kernelspec": {
   "display_name": "Python 3 (ipykernel)",
   "language": "python",
   "name": "python3"
  },
  "language_info": {
   "codemirror_mode": {
    "name": "ipython",
    "version": 3
   },
   "file_extension": ".py",
   "mimetype": "text/x-python",
   "name": "python",
   "nbconvert_exporter": "python",
   "pygments_lexer": "ipython3",
   "version": "3.9.21"
  }
 },
 "nbformat": 4,
 "nbformat_minor": 4
}
