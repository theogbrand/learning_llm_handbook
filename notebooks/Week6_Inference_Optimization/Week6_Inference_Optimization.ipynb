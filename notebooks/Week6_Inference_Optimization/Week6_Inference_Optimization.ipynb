{
 "cells": [
  {
   "cell_type": "markdown",
   "metadata": {},
   "source": [
    "# Week 6: Inference Optimization and Deployment\n",
    "Resource Required: Google Colab (T4) GPU\n",
    "\n",
    "See: Chip AI Engineering Ch9: https://learning.oreilly.com/library/view/ai-engineering/9781098166298/ch09.html#ch09_summary_1730130963009027"
   ]
  },
  {
   "cell_type": "markdown",
   "metadata": {},
   "source": [
    "## Notebook 6.1: Inference Engines\n",
    "- Benchmark vLLM against standard HF/PyTorch inference\n",
    "- Implement various inference optimizations\n",
    "- Understand RAM, FLOPS, Speculative Decoding, Parallel (batch) decoding"
   ]
  },
  {
   "cell_type": "markdown",
   "metadata": {},
   "source": [
    "## Notebook 6.2: Quantization Techniques\n",
    "Introduce bitsandbytes and gguf\n",
    "- Apply INT8 and INT4 quantization to models (gguf lib?)\n",
    "- Analyse accuracy-performance tradeoffs\n",
    "- Introduce Kernels and CUDA"
   ]
  },
  {
   "cell_type": "markdown",
   "metadata": {},
   "source": [
    "## Notebook 6.3: Production Optimizations\n",
    "- Implement KV-cache management strategies for production\n",
    "- Benchmark different GPU configurations and batch sizes\n",
    "- Beam Search, Top-K, Top-p, Greedy\n",
    "- Prompt Caching"
   ]
  },
  {
   "cell_type": "markdown",
   "metadata": {},
   "source": []
  }
 ],
 "metadata": {
  "kernelspec": {
   "display_name": "Python 3",
   "language": "python",
   "name": "python3"
  },
  "language_info": {
   "codemirror_mode": {
    "name": "ipython",
    "version": 3
   },
   "file_extension": ".py",
   "mimetype": "text/x-python",
   "name": "python",
   "nbconvert_exporter": "python",
   "pygments_lexer": "ipython3",
   "version": "3.8.10"
  }
 },
 "nbformat": 4,
 "nbformat_minor": 4
}
