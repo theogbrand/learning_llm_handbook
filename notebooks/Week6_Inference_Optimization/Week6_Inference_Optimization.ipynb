{
 "cells": [
  {
   "cell_type": "markdown",
   "metadata": {},
   "source": [
    "# Week 6: Inference Optimization and Deployment\n",
    "Resource Required: Google Colab (T4) GPU\n",
    "\n",
    "See: Chip AI Engineering Ch9: https://learning.oreilly.com/library/view/ai-engineering/9781098166298/ch09.html#ch09_summary_1730130963009027\n",
    "\n",
    "https://blog.runpod.io/introduction-to-vllm-and-how-to-run-vllm-on-runpod-serverless/\n",
    "\n",
    "https://www.anyscale.com/blog/continuous-batching-llm-inference"
   ]
  },
  {
   "cell_type": "markdown",
   "metadata": {},
   "source": [
    "## Notebook 6.1: Inference Engines\n",
    "- Benchmark vLLM against standard HF/PyTorch inference\n",
    "- Implement various inference optimizations\n",
    "- Understand Speculative Decoding, Parallel (batch) decoding, introduce paged/flash attention\n",
    "- understanding batch inference and GPU saturation (via continuous batching) to optimize utilisation with API concurrency\n",
    "- Introduce inference v.s. training metrics; training: types of memory like HBM, FLOPS, TTFT; inference: RAM, latency, throughput, and GPU saturation\n",
    "- Large scale parallel sampling example using vLLM and some seed prompts; maximize throughput with API concurrency"
   ]
  },
  {
   "cell_type": "markdown",
   "metadata": {},
   "source": [
    "## Notebook 6.2: Quantization Techniques\n",
    "Introduce bitsandbytes and gguf\n",
    "- Explain the point of INT8 and INT4 quantization to models (memory footprint, fits on smaller GPU, latency)\n",
    "- Bitsnbytes for vLLM\n",
    "- GGUF for Ollama and Local Inference\n",
    "- Introduce different methods to quantize models\n",
    "- Introduce briefly how tiling in CUDA kernels work"
   ]
  },
  {
   "cell_type": "markdown",
   "metadata": {},
   "source": [
    "## Notebook 6.3: Production Optimizations\n",
    "- Beam Search, Top-K, Top-p, Greedy, temperature sampling, and repetition penalty\n",
    "- Common metrics latency (TTFT, requests/sec), and throughput (token/s)\n",
    "- Introduce KV-cache"
   ]
  },
  {
   "cell_type": "markdown",
   "metadata": {},
   "source": []
  }
 ],
 "metadata": {
  "kernelspec": {
   "display_name": "Python 3",
   "language": "python",
   "name": "python3"
  },
  "language_info": {
   "codemirror_mode": {
    "name": "ipython",
    "version": 3
   },
   "file_extension": ".py",
   "mimetype": "text/x-python",
   "name": "python",
   "nbconvert_exporter": "python",
   "pygments_lexer": "ipython3",
   "version": "3.8.10"
  }
 },
 "nbformat": 4,
 "nbformat_minor": 4
}
